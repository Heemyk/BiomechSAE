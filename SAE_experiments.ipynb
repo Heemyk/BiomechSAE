{
  "cells": [
    {
      "cell_type": "markdown",
      "metadata": {
        "id": "view-in-github",
        "colab_type": "text"
      },
      "source": [
        "<a href=\"https://colab.research.google.com/github/Heemyk/BiomechSAE/blob/main/SAE_experiments.ipynb\" target=\"_parent\"><img src=\"https://colab.research.google.com/assets/colab-badge.svg\" alt=\"Open In Colab\"/></a>"
      ]
    },
    {
      "cell_type": "code",
      "execution_count": null,
      "metadata": {
        "colab": {
          "base_uri": "https://localhost:8080/"
        },
        "id": "Ubz3KlrOBIne",
        "outputId": "e1a34bf1-1a97-4477-881f-e6383886c0f0"
      },
      "outputs": [
        {
          "output_type": "stream",
          "name": "stdout",
          "text": [
            "Collecting git+https://github.com/openai/sparse_autoencoder.git@4965b94\n",
            "  Cloning https://github.com/openai/sparse_autoencoder.git (to revision 4965b94) to /tmp/pip-req-build-m2u88mgv\n",
            "  Running command git clone --filter=blob:none --quiet https://github.com/openai/sparse_autoencoder.git /tmp/pip-req-build-m2u88mgv\n",
            "\u001b[33m  WARNING: Did not find branch or tag '4965b94', assuming revision or ref.\u001b[0m\u001b[33m\n",
            "\u001b[0m  Running command git checkout -q 4965b94\n",
            "  Resolved https://github.com/openai/sparse_autoencoder.git to commit 4965b94\n",
            "  Installing build dependencies ... \u001b[?25l\u001b[?25hdone\n",
            "  Getting requirements to build wheel ... \u001b[?25l\u001b[?25hdone\n",
            "  Preparing metadata (pyproject.toml) ... \u001b[?25l\u001b[?25hdone\n",
            "Requirement already satisfied: blobfile==2.0.2 in /usr/local/lib/python3.10/dist-packages (from sparse_autoencoder==0.1) (2.0.2)\n",
            "Requirement already satisfied: torch==2.1.0 in /usr/local/lib/python3.10/dist-packages (from sparse_autoencoder==0.1) (2.1.0)\n",
            "Requirement already satisfied: transformer-lens==1.9.1 in /usr/local/lib/python3.10/dist-packages (from sparse_autoencoder==0.1) (1.9.1)\n",
            "Requirement already satisfied: pycryptodomex~=3.8 in /usr/local/lib/python3.10/dist-packages (from blobfile==2.0.2->sparse_autoencoder==0.1) (3.20.0)\n",
            "Requirement already satisfied: urllib3<3,>=1.25.3 in /usr/local/lib/python3.10/dist-packages (from blobfile==2.0.2->sparse_autoencoder==0.1) (2.0.7)\n",
            "Requirement already satisfied: lxml~=4.9 in /usr/local/lib/python3.10/dist-packages (from blobfile==2.0.2->sparse_autoencoder==0.1) (4.9.4)\n",
            "Requirement already satisfied: filelock~=3.0 in /usr/local/lib/python3.10/dist-packages (from blobfile==2.0.2->sparse_autoencoder==0.1) (3.15.4)\n",
            "Requirement already satisfied: typing-extensions in /usr/local/lib/python3.10/dist-packages (from torch==2.1.0->sparse_autoencoder==0.1) (4.12.2)\n",
            "Requirement already satisfied: sympy in /usr/local/lib/python3.10/dist-packages (from torch==2.1.0->sparse_autoencoder==0.1) (1.13.1)\n",
            "Requirement already satisfied: networkx in /usr/local/lib/python3.10/dist-packages (from torch==2.1.0->sparse_autoencoder==0.1) (3.3)\n",
            "Requirement already satisfied: jinja2 in /usr/local/lib/python3.10/dist-packages (from torch==2.1.0->sparse_autoencoder==0.1) (3.1.4)\n",
            "Requirement already satisfied: fsspec in /usr/local/lib/python3.10/dist-packages (from torch==2.1.0->sparse_autoencoder==0.1) (2024.5.0)\n",
            "Requirement already satisfied: nvidia-cuda-nvrtc-cu12==12.1.105 in /usr/local/lib/python3.10/dist-packages (from torch==2.1.0->sparse_autoencoder==0.1) (12.1.105)\n",
            "Requirement already satisfied: nvidia-cuda-runtime-cu12==12.1.105 in /usr/local/lib/python3.10/dist-packages (from torch==2.1.0->sparse_autoencoder==0.1) (12.1.105)\n",
            "Requirement already satisfied: nvidia-cuda-cupti-cu12==12.1.105 in /usr/local/lib/python3.10/dist-packages (from torch==2.1.0->sparse_autoencoder==0.1) (12.1.105)\n",
            "Requirement already satisfied: nvidia-cudnn-cu12==8.9.2.26 in /usr/local/lib/python3.10/dist-packages (from torch==2.1.0->sparse_autoencoder==0.1) (8.9.2.26)\n",
            "Requirement already satisfied: nvidia-cublas-cu12==12.1.3.1 in /usr/local/lib/python3.10/dist-packages (from torch==2.1.0->sparse_autoencoder==0.1) (12.1.3.1)\n",
            "Requirement already satisfied: nvidia-cufft-cu12==11.0.2.54 in /usr/local/lib/python3.10/dist-packages (from torch==2.1.0->sparse_autoencoder==0.1) (11.0.2.54)\n",
            "Requirement already satisfied: nvidia-curand-cu12==10.3.2.106 in /usr/local/lib/python3.10/dist-packages (from torch==2.1.0->sparse_autoencoder==0.1) (10.3.2.106)\n",
            "Requirement already satisfied: nvidia-cusolver-cu12==11.4.5.107 in /usr/local/lib/python3.10/dist-packages (from torch==2.1.0->sparse_autoencoder==0.1) (11.4.5.107)\n",
            "Requirement already satisfied: nvidia-cusparse-cu12==12.1.0.106 in /usr/local/lib/python3.10/dist-packages (from torch==2.1.0->sparse_autoencoder==0.1) (12.1.0.106)\n",
            "Requirement already satisfied: nvidia-nccl-cu12==2.18.1 in /usr/local/lib/python3.10/dist-packages (from torch==2.1.0->sparse_autoencoder==0.1) (2.18.1)\n",
            "Requirement already satisfied: nvidia-nvtx-cu12==12.1.105 in /usr/local/lib/python3.10/dist-packages (from torch==2.1.0->sparse_autoencoder==0.1) (12.1.105)\n",
            "Requirement already satisfied: triton==2.1.0 in /usr/local/lib/python3.10/dist-packages (from torch==2.1.0->sparse_autoencoder==0.1) (2.1.0)\n",
            "Requirement already satisfied: accelerate>=0.23.0 in /usr/local/lib/python3.10/dist-packages (from transformer-lens==1.9.1->sparse_autoencoder==0.1) (0.32.1)\n",
            "Requirement already satisfied: beartype<0.15.0,>=0.14.1 in /usr/local/lib/python3.10/dist-packages (from transformer-lens==1.9.1->sparse_autoencoder==0.1) (0.14.1)\n",
            "Requirement already satisfied: datasets>=2.7.1 in /usr/local/lib/python3.10/dist-packages (from transformer-lens==1.9.1->sparse_autoencoder==0.1) (2.20.0)\n",
            "Requirement already satisfied: einops>=0.6.0 in /usr/local/lib/python3.10/dist-packages (from transformer-lens==1.9.1->sparse_autoencoder==0.1) (0.8.0)\n",
            "Requirement already satisfied: fancy-einsum>=0.0.3 in /usr/local/lib/python3.10/dist-packages (from transformer-lens==1.9.1->sparse_autoencoder==0.1) (0.0.3)\n",
            "Requirement already satisfied: jaxtyping>=0.2.11 in /usr/local/lib/python3.10/dist-packages (from transformer-lens==1.9.1->sparse_autoencoder==0.1) (0.2.33)\n",
            "Requirement already satisfied: numpy>=1.24 in /usr/local/lib/python3.10/dist-packages (from transformer-lens==1.9.1->sparse_autoencoder==0.1) (1.26.4)\n",
            "Requirement already satisfied: pandas>=1.1.5 in /usr/local/lib/python3.10/dist-packages (from transformer-lens==1.9.1->sparse_autoencoder==0.1) (2.1.4)\n",
            "Requirement already satisfied: rich>=12.6.0 in /usr/local/lib/python3.10/dist-packages (from transformer-lens==1.9.1->sparse_autoencoder==0.1) (13.7.1)\n",
            "Requirement already satisfied: tqdm>=4.64.1 in /usr/local/lib/python3.10/dist-packages (from transformer-lens==1.9.1->sparse_autoencoder==0.1) (4.66.4)\n",
            "Requirement already satisfied: transformers>=4.25.1 in /usr/local/lib/python3.10/dist-packages (from transformer-lens==1.9.1->sparse_autoencoder==0.1) (4.42.4)\n",
            "Requirement already satisfied: wandb>=0.13.5 in /usr/local/lib/python3.10/dist-packages (from transformer-lens==1.9.1->sparse_autoencoder==0.1) (0.17.5)\n",
            "Requirement already satisfied: nvidia-nvjitlink-cu12 in /usr/local/lib/python3.10/dist-packages (from nvidia-cusolver-cu12==11.4.5.107->torch==2.1.0->sparse_autoencoder==0.1) (12.5.82)\n",
            "Requirement already satisfied: packaging>=20.0 in /usr/local/lib/python3.10/dist-packages (from accelerate>=0.23.0->transformer-lens==1.9.1->sparse_autoencoder==0.1) (24.1)\n",
            "Requirement already satisfied: psutil in /usr/local/lib/python3.10/dist-packages (from accelerate>=0.23.0->transformer-lens==1.9.1->sparse_autoencoder==0.1) (5.9.5)\n",
            "Requirement already satisfied: pyyaml in /usr/local/lib/python3.10/dist-packages (from accelerate>=0.23.0->transformer-lens==1.9.1->sparse_autoencoder==0.1) (6.0.1)\n",
            "Requirement already satisfied: huggingface-hub in /usr/local/lib/python3.10/dist-packages (from accelerate>=0.23.0->transformer-lens==1.9.1->sparse_autoencoder==0.1) (0.23.5)\n",
            "Requirement already satisfied: safetensors>=0.3.1 in /usr/local/lib/python3.10/dist-packages (from accelerate>=0.23.0->transformer-lens==1.9.1->sparse_autoencoder==0.1) (0.4.3)\n",
            "Requirement already satisfied: pyarrow>=15.0.0 in /usr/local/lib/python3.10/dist-packages (from datasets>=2.7.1->transformer-lens==1.9.1->sparse_autoencoder==0.1) (17.0.0)\n",
            "Requirement already satisfied: pyarrow-hotfix in /usr/local/lib/python3.10/dist-packages (from datasets>=2.7.1->transformer-lens==1.9.1->sparse_autoencoder==0.1) (0.6)\n",
            "Requirement already satisfied: dill<0.3.9,>=0.3.0 in /usr/local/lib/python3.10/dist-packages (from datasets>=2.7.1->transformer-lens==1.9.1->sparse_autoencoder==0.1) (0.3.8)\n",
            "Requirement already satisfied: requests>=2.32.2 in /usr/local/lib/python3.10/dist-packages (from datasets>=2.7.1->transformer-lens==1.9.1->sparse_autoencoder==0.1) (2.32.3)\n",
            "Requirement already satisfied: xxhash in /usr/local/lib/python3.10/dist-packages (from datasets>=2.7.1->transformer-lens==1.9.1->sparse_autoencoder==0.1) (3.4.1)\n",
            "Requirement already satisfied: multiprocess in /usr/local/lib/python3.10/dist-packages (from datasets>=2.7.1->transformer-lens==1.9.1->sparse_autoencoder==0.1) (0.70.16)\n",
            "Requirement already satisfied: aiohttp in /usr/local/lib/python3.10/dist-packages (from datasets>=2.7.1->transformer-lens==1.9.1->sparse_autoencoder==0.1) (3.9.5)\n",
            "Requirement already satisfied: typeguard==2.13.3 in /usr/local/lib/python3.10/dist-packages (from jaxtyping>=0.2.11->transformer-lens==1.9.1->sparse_autoencoder==0.1) (2.13.3)\n",
            "Requirement already satisfied: python-dateutil>=2.8.2 in /usr/local/lib/python3.10/dist-packages (from pandas>=1.1.5->transformer-lens==1.9.1->sparse_autoencoder==0.1) (2.8.2)\n",
            "Requirement already satisfied: pytz>=2020.1 in /usr/local/lib/python3.10/dist-packages (from pandas>=1.1.5->transformer-lens==1.9.1->sparse_autoencoder==0.1) (2024.1)\n",
            "Requirement already satisfied: tzdata>=2022.1 in /usr/local/lib/python3.10/dist-packages (from pandas>=1.1.5->transformer-lens==1.9.1->sparse_autoencoder==0.1) (2024.1)\n",
            "Requirement already satisfied: markdown-it-py>=2.2.0 in /usr/local/lib/python3.10/dist-packages (from rich>=12.6.0->transformer-lens==1.9.1->sparse_autoencoder==0.1) (3.0.0)\n",
            "Requirement already satisfied: pygments<3.0.0,>=2.13.0 in /usr/local/lib/python3.10/dist-packages (from rich>=12.6.0->transformer-lens==1.9.1->sparse_autoencoder==0.1) (2.16.1)\n",
            "Requirement already satisfied: regex!=2019.12.17 in /usr/local/lib/python3.10/dist-packages (from transformers>=4.25.1->transformer-lens==1.9.1->sparse_autoencoder==0.1) (2024.5.15)\n",
            "Requirement already satisfied: tokenizers<0.20,>=0.19 in /usr/local/lib/python3.10/dist-packages (from transformers>=4.25.1->transformer-lens==1.9.1->sparse_autoencoder==0.1) (0.19.1)\n",
            "Requirement already satisfied: click!=8.0.0,>=7.1 in /usr/local/lib/python3.10/dist-packages (from wandb>=0.13.5->transformer-lens==1.9.1->sparse_autoencoder==0.1) (8.1.7)\n",
            "Requirement already satisfied: docker-pycreds>=0.4.0 in /usr/local/lib/python3.10/dist-packages (from wandb>=0.13.5->transformer-lens==1.9.1->sparse_autoencoder==0.1) (0.4.0)\n",
            "Requirement already satisfied: gitpython!=3.1.29,>=1.0.0 in /usr/local/lib/python3.10/dist-packages (from wandb>=0.13.5->transformer-lens==1.9.1->sparse_autoencoder==0.1) (3.1.43)\n",
            "Requirement already satisfied: platformdirs in /usr/local/lib/python3.10/dist-packages (from wandb>=0.13.5->transformer-lens==1.9.1->sparse_autoencoder==0.1) (4.2.2)\n",
            "Requirement already satisfied: protobuf!=4.21.0,<6,>=3.19.0 in /usr/local/lib/python3.10/dist-packages (from wandb>=0.13.5->transformer-lens==1.9.1->sparse_autoencoder==0.1) (3.20.3)\n",
            "Requirement already satisfied: sentry-sdk>=1.0.0 in /usr/local/lib/python3.10/dist-packages (from wandb>=0.13.5->transformer-lens==1.9.1->sparse_autoencoder==0.1) (2.11.0)\n",
            "Requirement already satisfied: setproctitle in /usr/local/lib/python3.10/dist-packages (from wandb>=0.13.5->transformer-lens==1.9.1->sparse_autoencoder==0.1) (1.3.3)\n",
            "Requirement already satisfied: setuptools in /usr/local/lib/python3.10/dist-packages (from wandb>=0.13.5->transformer-lens==1.9.1->sparse_autoencoder==0.1) (71.0.4)\n",
            "Requirement already satisfied: MarkupSafe>=2.0 in /usr/local/lib/python3.10/dist-packages (from jinja2->torch==2.1.0->sparse_autoencoder==0.1) (2.1.5)\n",
            "Requirement already satisfied: mpmath<1.4,>=1.1.0 in /usr/local/lib/python3.10/dist-packages (from sympy->torch==2.1.0->sparse_autoencoder==0.1) (1.3.0)\n",
            "Requirement already satisfied: six>=1.4.0 in /usr/local/lib/python3.10/dist-packages (from docker-pycreds>=0.4.0->wandb>=0.13.5->transformer-lens==1.9.1->sparse_autoencoder==0.1) (1.16.0)\n",
            "Requirement already satisfied: aiosignal>=1.1.2 in /usr/local/lib/python3.10/dist-packages (from aiohttp->datasets>=2.7.1->transformer-lens==1.9.1->sparse_autoencoder==0.1) (1.3.1)\n",
            "Requirement already satisfied: attrs>=17.3.0 in /usr/local/lib/python3.10/dist-packages (from aiohttp->datasets>=2.7.1->transformer-lens==1.9.1->sparse_autoencoder==0.1) (23.2.0)\n",
            "Requirement already satisfied: frozenlist>=1.1.1 in /usr/local/lib/python3.10/dist-packages (from aiohttp->datasets>=2.7.1->transformer-lens==1.9.1->sparse_autoencoder==0.1) (1.4.1)\n",
            "Requirement already satisfied: multidict<7.0,>=4.5 in /usr/local/lib/python3.10/dist-packages (from aiohttp->datasets>=2.7.1->transformer-lens==1.9.1->sparse_autoencoder==0.1) (6.0.5)\n",
            "Requirement already satisfied: yarl<2.0,>=1.0 in /usr/local/lib/python3.10/dist-packages (from aiohttp->datasets>=2.7.1->transformer-lens==1.9.1->sparse_autoencoder==0.1) (1.9.4)\n",
            "Requirement already satisfied: async-timeout<5.0,>=4.0 in /usr/local/lib/python3.10/dist-packages (from aiohttp->datasets>=2.7.1->transformer-lens==1.9.1->sparse_autoencoder==0.1) (4.0.3)\n",
            "Requirement already satisfied: gitdb<5,>=4.0.1 in /usr/local/lib/python3.10/dist-packages (from gitpython!=3.1.29,>=1.0.0->wandb>=0.13.5->transformer-lens==1.9.1->sparse_autoencoder==0.1) (4.0.11)\n",
            "Requirement already satisfied: mdurl~=0.1 in /usr/local/lib/python3.10/dist-packages (from markdown-it-py>=2.2.0->rich>=12.6.0->transformer-lens==1.9.1->sparse_autoencoder==0.1) (0.1.2)\n",
            "Requirement already satisfied: charset-normalizer<4,>=2 in /usr/local/lib/python3.10/dist-packages (from requests>=2.32.2->datasets>=2.7.1->transformer-lens==1.9.1->sparse_autoencoder==0.1) (3.3.2)\n",
            "Requirement already satisfied: idna<4,>=2.5 in /usr/local/lib/python3.10/dist-packages (from requests>=2.32.2->datasets>=2.7.1->transformer-lens==1.9.1->sparse_autoencoder==0.1) (3.7)\n",
            "Requirement already satisfied: certifi>=2017.4.17 in /usr/local/lib/python3.10/dist-packages (from requests>=2.32.2->datasets>=2.7.1->transformer-lens==1.9.1->sparse_autoencoder==0.1) (2024.7.4)\n",
            "Requirement already satisfied: smmap<6,>=3.0.1 in /usr/local/lib/python3.10/dist-packages (from gitdb<5,>=4.0.1->gitpython!=3.1.29,>=1.0.0->wandb>=0.13.5->transformer-lens==1.9.1->sparse_autoencoder==0.1) (5.0.1)\n"
          ]
        }
      ],
      "source": [
        "commit = \"08efeb9\" # Stable commit # for probe steering\n",
        "commit2 = \"4965b94\"\n",
        "# get_ipython().run_line_magic(magic_name='pip', line=f'install -U git+https://github.com/montemac/algebraic_value_editing.git@{commit}') # for probe steering\n",
        "get_ipython().run_line_magic(magic_name='pip', line=f'install -U git+https://github.com/openai/sparse_autoencoder.git@{commit2}') # openai sparse autoencoder\n"
      ]
    },
    {
      "cell_type": "code",
      "execution_count": null,
      "metadata": {
        "id": "N-1bad5DBxZw"
      },
      "outputs": [],
      "source": [
        "# ----------------------------------- IMPORTS -------------------------------------\n",
        "import torch\n",
        "import blobfile as bf\n",
        "import sparse_autoencoder\n",
        "# import transformers\n",
        "import time\n",
        "import numpy as np\n",
        "import matplotlib.pyplot as plt\n",
        "from tqdm.notebook import tqdm as tqdm\n",
        "import seaborn as sns\n",
        "sns.set_style(\"whitegrid\")\n",
        "# device = \"cuda\" if torch.cuda.is_available() else \"cpu\"\n",
        "device = \"cpu\"\n",
        "from typing import List, Union, Tuple\n",
        "from functools import partial\n",
        "from transformer_lens.HookedTransformer import HookedTransformer\n",
        "\n",
        "# for probe steering\n",
        "# from algebraic_value_editing.completion_utils import print_n_comparisons\n",
        "# from algebraic_value_editing.prompt_utils import RichPrompt, get_x_vector\n",
        "\n",
        "\n",
        "# for methods\n",
        "from torch.nn.utils.rnn import pad_sequence\n"
      ]
    },
    {
      "cell_type": "markdown",
      "source": [
        "LANGUAGE MODEL - GPT2"
      ],
      "metadata": {
        "id": "8KNNbh-_FMTA"
      }
    },
    {
      "cell_type": "code",
      "execution_count": null,
      "metadata": {
        "colab": {
          "base_uri": "https://localhost:8080/"
        },
        "id": "27LBS_eKZ483",
        "outputId": "97dc811c-560d-43ce-ae7c-7106fcfec9d7"
      },
      "outputs": [
        {
          "output_type": "stream",
          "name": "stderr",
          "text": [
            "/usr/local/lib/python3.10/dist-packages/huggingface_hub/utils/_token.py:89: UserWarning: \n",
            "The secret `HF_TOKEN` does not exist in your Colab secrets.\n",
            "To authenticate with the Hugging Face Hub, create a token in your settings tab (https://huggingface.co/settings/tokens), set it as secret in your Google Colab and restart your session.\n",
            "You will be able to reuse this secret in all of your notebooks.\n",
            "Please note that authentication is recommended but still optional to access public models or datasets.\n",
            "  warnings.warn(\n"
          ]
        },
        {
          "output_type": "stream",
          "name": "stdout",
          "text": [
            "Loaded pretrained model gpt2 into HookedTransformer\n",
            "HookedTransformer(\n",
            "  (embed): Embed()\n",
            "  (hook_embed): HookPoint()\n",
            "  (pos_embed): PosEmbed()\n",
            "  (hook_pos_embed): HookPoint()\n",
            "  (blocks): ModuleList(\n",
            "    (0-11): 12 x TransformerBlock(\n",
            "      (ln1): LayerNormPre(\n",
            "        (hook_scale): HookPoint()\n",
            "        (hook_normalized): HookPoint()\n",
            "      )\n",
            "      (ln2): LayerNormPre(\n",
            "        (hook_scale): HookPoint()\n",
            "        (hook_normalized): HookPoint()\n",
            "      )\n",
            "      (attn): Attention(\n",
            "        (hook_k): HookPoint()\n",
            "        (hook_q): HookPoint()\n",
            "        (hook_v): HookPoint()\n",
            "        (hook_z): HookPoint()\n",
            "        (hook_attn_scores): HookPoint()\n",
            "        (hook_pattern): HookPoint()\n",
            "        (hook_result): HookPoint()\n",
            "      )\n",
            "      (mlp): MLP(\n",
            "        (hook_pre): HookPoint()\n",
            "        (hook_post): HookPoint()\n",
            "      )\n",
            "      (hook_attn_in): HookPoint()\n",
            "      (hook_q_input): HookPoint()\n",
            "      (hook_k_input): HookPoint()\n",
            "      (hook_v_input): HookPoint()\n",
            "      (hook_mlp_in): HookPoint()\n",
            "      (hook_attn_out): HookPoint()\n",
            "      (hook_mlp_out): HookPoint()\n",
            "      (hook_resid_pre): HookPoint()\n",
            "      (hook_resid_mid): HookPoint()\n",
            "      (hook_resid_post): HookPoint()\n",
            "    )\n",
            "  )\n",
            "  (ln_final): LayerNormPre(\n",
            "    (hook_scale): HookPoint()\n",
            "    (hook_normalized): HookPoint()\n",
            "  )\n",
            "  (unembed): Unembed()\n",
            ")\n",
            "12\n"
          ]
        }
      ],
      "source": [
        "model = HookedTransformer.from_pretrained(\"gpt2\", center_writing_weights=False) # Using HookedTransformer, lets you add stuff more easily into specific layers\n",
        "device = next(model.parameters()).device # idk what this does, not sure what the device is but it works, was copypasted from example code\n",
        "print(model) # Prints models parameters\n",
        "print(model.cfg.n_layers) # no of layers\n",
        "prompt = \"This is an example of a prompt that\"\n",
        "tokens = model.to_tokens(prompt)  # (1, n_tokens)\n",
        "with torch.no_grad():\n",
        "    logits, activation_cache = model.run_with_cache(tokens, remove_batch_dim=True)\n",
        "\n"
      ]
    },
    {
      "cell_type": "markdown",
      "metadata": {
        "id": "aDBR6sZHZ9en"
      },
      "source": [
        "Probe steering - IGNORE, NOT NEEDED AND NOT GREAT RESULTS"
      ]
    },
    {
      "cell_type": "code",
      "execution_count": null,
      "metadata": {
        "id": "CctbOY9XGCBj"
      },
      "outputs": [],
      "source": [
        "# # Shorten function calls\n",
        "# default_kwargs = {'temperature': 1, 'freq_penalty': 1, 'top_p': .3, 'model': model}\n",
        "# get_x_vector_preset = partial(get_x_vector, pad_method=\"tokens_right\",\n",
        "#                               model=model,\n",
        "#                               custom_pad_id=model.to_single_token(\" \"))"
      ]
    },
    {
      "cell_type": "code",
      "execution_count": null,
      "metadata": {
        "id": "X1oR2A1INV2I"
      },
      "outputs": [],
      "source": [
        "# rich_prompts = [#*get_x_vector_preset(prompt1=\"Geese killed my father\", prompt2=\"Geese didn't kill my father\", coeff=1, act_name=14),\n",
        "#                 *get_x_vector_preset(prompt1=\"francais\", prompt2=\"english\", coeff=15, act_name=8),]\n",
        "\n",
        "# print_n_comparisons(prompt=\"Yesterday, my son brought home a pet \",\n",
        "#                     tokens_to_generate=80, rich_prompts=rich_prompts,\n",
        "#                     num_comparisons=15, seed=0, **default_kwargs)"
      ]
    },
    {
      "cell_type": "markdown",
      "metadata": {
        "id": "pGrrx9lV4jR5"
      },
      "source": [
        "PROMPT EXPERIMENTATION"
      ]
    },
    {
      "cell_type": "code",
      "source": [
        "print(model.to_tokens(\" Czech\")) # Example of how GPT-2 tokenizes words"
      ],
      "metadata": {
        "colab": {
          "base_uri": "https://localhost:8080/"
        },
        "id": "OAafODkxhPEo",
        "outputId": "c66e5726-dad4-478d-aa4b-e697b7122b06"
      },
      "execution_count": null,
      "outputs": [
        {
          "output_type": "stream",
          "name": "stdout",
          "text": [
            "tensor([[50256, 16639]], device='cuda:0')\n"
          ]
        }
      ]
    },
    {
      "cell_type": "code",
      "source": [
        "# GLOBALS - TO EASILY CHANGE WHERE IN THE MODEL WE ARE LOOKING (will refactor into class later, but that will make it harder to edit stuff on the fly so will leave as globals for now)\n",
        "layer_index_global = 8\n",
        "location_global = \"resid_post_mlp\"\n",
        "\n",
        "transformer_lens_loc_dict = lambda layer_index : {\n",
        "      \"mlp_post_act\": f\"blocks.{layer_index}.mlp.hook_post\",\n",
        "      \"resid_delta_attn\": f\"blocks.{layer_index}.hook_attn_out\",\n",
        "      \"resid_post_attn\": f\"blocks.{layer_index}.hook_resid_mid\",\n",
        "      \"resid_delta_mlp\": f\"blocks.{layer_index}.hook_mlp_out\",\n",
        "      \"resid_post_mlp\": f\"blocks.{layer_index}.hook_resid_post\",\n",
        "  } # Used for navigating transformer. Takes in layer_index and gives a path to hook within language model\n"
      ],
      "metadata": {
        "id": "DdJELSnNbu5I"
      },
      "execution_count": null,
      "outputs": []
    },
    {
      "cell_type": "code",
      "execution_count": null,
      "metadata": {
        "id": "gINcOj474f9J"
      },
      "outputs": [],
      "source": [
        "# Methods\n",
        "\n",
        "def find_recons(tokens, autoencoder, layer_index = layer_index_global, location = location_global):\n",
        "  with torch.no_grad():\n",
        "      logits, activation_cache = model.run_with_cache(tokens, remove_batch_dim=True) # runs the model with the tokens, and caches all the model info\n",
        "  transformer_lens_loc = transformer_lens_loc_dict(layer_index)[location] # specific bit in the model to reconstruct, specificied by the layer_index (there are 12) and location\n",
        "  input_tensor = activation_cache[transformer_lens_loc] # Gets the cached info at this bit\n",
        "  input_tensor_ln = input_tensor # copies, don't want to affect original\n",
        "  with torch.no_grad():\n",
        "      latent_activations, info = autoencoder.encode(input_tensor_ln) # projects into sparse basis (halfway through structure)\n",
        "      reconstructed_activations = autoencoder.decode(latent_activations, info) # full way, not needed\n",
        "  return latent_activations # shape is (no_of_tokens_in_input, no_of_features_in_latent_space). For each token, it will give the sparse decomposition from feedforwarding everything up to it and getting the corresponding activations\n",
        "\n",
        "\n",
        "def split_by_element(token_to_split, element = \" I\"): # NOT USED RN, IGNORE\n",
        "  # -------------- example implementation ---------------------\n",
        "  # inputs: token_to_split = \"James and I went to the park but I was unhappy so I went home.\", element = \" I\"\n",
        "  # returns: ([to_tokens(\"James and I\"), to_tokens(\"James and I went to the park but I\"), to_tokens(James and I went to the park but I was unhappy so I)])\n",
        "\n",
        "  target_element = model.to_tokens(element)[0][-1].item() # gets token representation of element to look for, defaults to look for \" I\"\n",
        "  # target_element = 314\n",
        "  tokens_split = torch.nn.utils.rnn.pad_sequence([token_to_split[0][:i+1] for i in range(token_to_split.shape[-1]) if token_to_split[0][i].item() == target_element], batch_first=True) # Finds instances of elements in original code and cumulatively appends sublist\n",
        "  return tokens_split\n",
        "\n",
        "\n",
        "\n",
        "def get_split_element_idxs(token_to_split, element = \" I\"):\n",
        "  target_element = model.to_tokens(element)[0][-1].item()\n",
        "  tokens_split_idxs = torch.tensor([i for i in range(token_to_split.shape[-1]) if token_to_split[0][i].item() == target_element])\n",
        "  return tokens_split_idxs # returns indices of where element is present in token_to_split\n",
        "\n",
        "\n",
        "\n",
        "def get_time_signal_data(tokens, layer_index = layer_index_global, location = location_global, return_autoenc = False):\n",
        "  with bf.BlobFile(sparse_autoencoder.paths.v5_32k(location, layer_index), mode=\"rb\") as f: # Opens OpenAIs v5_32k sparse autoencoder pretrained model\n",
        "      state_dict = torch.load(f)\n",
        "      autoencoder = sparse_autoencoder.Autoencoder.from_state_dict(state_dict) # builds autoencoder model from pretrained saved data\n",
        "      autoencoder.to(device)\n",
        "\n",
        "  lst_of_latents = find_recons(tokens, autoencoder = autoencoder, layer_index=layer_index_global, location=location) # gets the latent representations of the tokens, and by nature of the autoencoder they provide (see find_recons return type), this is sequential\n",
        "  print(f\"Signal data shape: {lst_of_latents.shape}\") # (no_of_tokens_in_input, no_of_features_in_latent_space)\n",
        "  if return_autoenc:\n",
        "    return lst_of_latents, autoencoder # flag for autoencoder along with latent data to avoid opening and loading multiple times (to make faster)\n",
        "  return torch.Tensor.cpu(lst_of_latents)\n",
        "\n",
        "\n",
        "def analyse_PCA(token, splitter = \" I\", difference = False, layer_index = layer_index_global, location = location_global):\n",
        "  data_to_analyse = get_time_signal_data(token, layer_index=layer_index, location=location) # gets time signal data, looks at the last layer (layer_index_global) and defaults to resid_post_mlp part\n",
        "  idx_data = get_split_element_idxs(token, splitter) # gets indices of where \"splitter\" word is present in text\n",
        "  if difference:\n",
        "    data_parsed = data_to_analyse[idx_data] - data_to_analyse[torch.add(idx_data, -1)] # looks at change in MLP layer outputs before \"splitter\" and after\n",
        "  else:\n",
        "    data_parsed = data_to_analyse[torch.add(idx_data, -1)] # looks at output after\n",
        "  _, _, V = torch.pca_lowrank(data_parsed) # pca, gives U, S, V where operator = USV^T after centering\n",
        "  eigvecs = V.T\n",
        "  # print(f\"Eigenvalues are: {eigvals}\")\n",
        "  # print(f\"Eigenvectors are: {V.T}\")\n",
        "  for ye in eigvecs:\n",
        "    plt.plot(ye, alpha = 0.2) # plots eigenvectors, plots value on y and dimension (32k) on x\n",
        "\n",
        "\n",
        "\n",
        "def analyse_PCA_eigvals(token, splitter = \" I\", difference = False, layer_index = layer_index_global, location = location_global): # plots eigenvalues against prinipal no\n",
        "  data_to_analyse = get_time_signal_data(token, layer_index=layer_index, location=location)\n",
        "  idx_data = get_split_element_idxs(token, splitter)\n",
        "  if difference:\n",
        "    data_parsed = data_to_analyse[idx_data] - data_to_analyse[torch.add(idx_data, -1)]\n",
        "  else:\n",
        "    data_parsed = data_to_analyse[torch.add(idx_data, -1)]\n",
        "  _, S, _ = torch.pca_lowrank(data_parsed)\n",
        "  eigvals = S**2 / (data_parsed.size(0) - 1)\n",
        "  plt.figure(figsize=(10, 6))\n",
        "  plt.plot(range(1, len(eigvals) + 1), eigvals, 'o-', markersize=8, linewidth=2)\n",
        "  plt.title('Eigenvalues vs Principal Component Number')\n",
        "  plt.xlabel('Principal Component Number')\n",
        "  plt.ylabel('Eigenvalue')\n",
        "  plt.grid(True)\n",
        "  # plt.show()\n",
        "  # plt.plot()\n",
        "\n",
        "\n",
        "\n",
        "def analyse_dim_freqs(token, splitter = \" I\", onehot = False, temp = 1, layer_index = layer_index_global, location = location_global):\n",
        "  data_to_analyse = get_time_signal_data(token, layer_index=layer_index, location=location) # gets time signal data\n",
        "  idx_data = get_split_element_idxs(token, splitter) # gets indexes of where word is present\n",
        "  data_parsed =  data_to_analyse[torch.add(idx_data, -1)]  # looks at last layer (layer_index_global) of word before token (ie predictions) and gets sparse decompositions of these for all instances in text signal\n",
        "  dp_non_zeros = (data_parsed!=0).int() if onehot else data_parsed # if onehot, then look at when a dimension is turned on, and ignore the actual value (frequency). Not\n",
        "  avg_freqs = torch.mean((dp_non_zeros / dp_non_zeros.sum(dim=-1).unsqueeze(-1)), dim = 0) # for a given decomposition (1 x 32k), we normalize this so it adds to 1 (probability distribution). We then average along all decompositions (no of decompositions is no of instances of \"splitter\" word in text)\n",
        "  plt.plot(torch.nn.functional.softmax(avg_freqs/temp), alpha = 0.2) # Uses a softmax with temperature to bring out spikes in dimension more, just for playing around.\n"
      ]
    },
    {
      "cell_type": "code",
      "source": [
        "#chess experiment\n",
        "\"\"\"\n",
        "prompt1 = Beneath the golden sun’s embrace so warm,\n",
        "Where twilight weaves its magic, soft and calm,\n",
        "The whispering winds in fields of green transform,\n",
        "And dance with shadows in a twilight charm.\n",
        "\n",
        "The stars emerge as day begins to wane,\n",
        "A quiet lullaby within the night,\n",
        "As dreams take flight and stars their paths regain,\n",
        "The world is hushed in nature’s gentle light.\"\"\"\n",
        "\n",
        "prompt1 = \"\"\"d4 Nf6\n",
        "c4 e6\n",
        "Nc3 Bb4\n",
        "Qc2 O-O\n",
        "Nf3 d5\n",
        "Bg5 h6\n",
        "Bh4 c5\n",
        "dxc5 dxc4\n",
        "e3 Nbd7\n",
        "Bxc4 Qa5\n",
        "O-O Qxc5\n",
        "Bb3 Bxc3\n",
        "bxc3 b6\n",
        "Rfd1 Bb7\n",
        "Rd4 Rac8\n",
        "Rad1 Rc7\n",
        "Bg3 e5\n",
        "R4d2 Re8\n",
        "h3 Qc6\n",
        "Qf5 g6\n",
        "Qb1 Kg7\n",
        "a4 Qxc3\n",
        "Qa2 Re7\n",
        "Kh2 Qc6\n",
        "a5 b5\n",
        "Qa1 Ne4\n",
        "Rd5 Nxg3\n",
        "fxg3 Qc3\n",
        "Qa2 Qxe3\n",
        "Rxb5 Nf6\n",
        "Qa3 Qe2\n",
        "Re1 Qxb5\n",
        "Ba4 Qc5\n",
        "Qxc5 Rxc5\n",
        "Nd2 e4\"\"\"\n",
        "tokens1 = model.to_tokens(prompt1)\n",
        "\n",
        "move1 = get_time_signal_data(tokens1, layer_index_global, location_global)\n"
      ],
      "metadata": {
        "colab": {
          "base_uri": "https://localhost:8080/"
        },
        "id": "lOMG7XPyZHsa",
        "outputId": "b7099e56-f0ee-4862-ec00-e07404769ddf"
      },
      "execution_count": null,
      "outputs": [
        {
          "output_type": "stream",
          "name": "stdout",
          "text": [
            "Signal data shape: torch.Size([224, 32768])\n"
          ]
        }
      ]
    },
    {
      "cell_type": "code",
      "source": [
        "plt.plot(move1[1])"
      ],
      "metadata": {
        "colab": {
          "base_uri": "https://localhost:8080/",
          "height": 448
        },
        "id": "7Th0bwLVZfUb",
        "outputId": "ab463420-6fd1-45b8-dc0a-f72776e84c54"
      },
      "execution_count": null,
      "outputs": [
        {
          "output_type": "execute_result",
          "data": {
            "text/plain": [
              "[<matplotlib.lines.Line2D at 0x79b5561364a0>]"
            ]
          },
          "metadata": {},
          "execution_count": 56
        },
        {
          "output_type": "display_data",
          "data": {
            "text/plain": [
              "<Figure size 640x480 with 1 Axes>"
            ],
            "image/png": "[encoded data removed]"
          },
          "metadata": {}
        }
      ]
    },
    {
      "cell_type": "code",
      "source": [
        "prompt1 = \"\"\"Amidst the bustling city streets, where the rhythm of life never seems to pause, there exists a hidden park, a serene oasis surrounded by towering skyscrapers. Here, the sounds of traffic fade into the background, replaced by the soothing rustle of leaves and the occasional chirp of a sparrow. This tranquil space offers a brief respite, allowing city dwellers to reconnect with nature and find a moment of calm.\"\"\"\n",
        "tokens1 = model.to_tokens(prompt1)\n",
        "\n",
        "move1 = get_time_signal_data(tokens1, layer_index_global, location_global)\n",
        "\n",
        "plt.plot(move1[1])"
      ],
      "metadata": {
        "colab": {
          "base_uri": "https://localhost:8080/",
          "height": 466
        },
        "id": "EILWcGYwZxFY",
        "outputId": "aa2f3e9f-ee8b-4a7c-f2d2-48b1088c06a8"
      },
      "execution_count": null,
      "outputs": [
        {
          "output_type": "stream",
          "name": "stdout",
          "text": [
            "Signal data shape: torch.Size([90, 32768])\n"
          ]
        },
        {
          "output_type": "execute_result",
          "data": {
            "text/plain": [
              "[<matplotlib.lines.Line2D at 0x79b5563d1ba0>]"
            ]
          },
          "metadata": {},
          "execution_count": 61
        },
        {
          "output_type": "display_data",
          "data": {
            "text/plain": [
              "<Figure size 640x480 with 1 Axes>"
            ],
            "image/png": "[encoded data removed]"
          },
          "metadata": {}
        }
      ]
    },
    {
      "cell_type": "code",
      "source": [
        "prompt1 = \"I am bored\"\n",
        "tokens1 = model.to_tokens(prompt1)\n",
        "\n",
        "move1 = get_time_signal_data(tokens1, layer_index_global, location_global)\n",
        "\n",
        "plt.plot(move1[1])"
      ],
      "metadata": {
        "colab": {
          "base_uri": "https://localhost:8080/",
          "height": 466
        },
        "id": "yuO8L5lfdGjg",
        "outputId": "215428ad-25fa-4813-83b6-cec483611eee"
      },
      "execution_count": null,
      "outputs": [
        {
          "output_type": "stream",
          "name": "stdout",
          "text": [
            "Signal data shape: torch.Size([4, 32768])\n"
          ]
        },
        {
          "output_type": "execute_result",
          "data": {
            "text/plain": [
              "[<matplotlib.lines.Line2D at 0x79b556b51db0>]"
            ]
          },
          "metadata": {},
          "execution_count": 19
        },
        {
          "output_type": "display_data",
          "data": {
            "text/plain": [
              "<Figure size 640x480 with 1 Axes>"
            ],
            "image/png": "[encoded data removed]"
          },
          "metadata": {}
        }
      ]
    },
    {
      "cell_type": "code",
      "source": [
        "prompt1 = \"1. e4 e5 2. Nf3 Nc6 3. Bc4 Bc5 4. c3 Nf6 5. d4 exd4\"\n",
        "tokens1 = model.to_tokens(prompt1)\n",
        "\n",
        "move1 = get_time_signal_data(tokens1, layer_index_global, location_global)\n",
        "\n",
        "plt.plot(move1[1])"
      ],
      "metadata": {
        "colab": {
          "base_uri": "https://localhost:8080/",
          "height": 466
        },
        "id": "hUda_gOidZPu",
        "outputId": "27b1ac10-16d6-46d0-d6c8-a39cdb182b1b"
      },
      "execution_count": null,
      "outputs": [
        {
          "output_type": "stream",
          "name": "stdout",
          "text": [
            "Signal data shape: torch.Size([37, 32768])\n"
          ]
        },
        {
          "output_type": "execute_result",
          "data": {
            "text/plain": [
              "[<matplotlib.lines.Line2D at 0x79b556a19510>]"
            ]
          },
          "metadata": {},
          "execution_count": 21
        },
        {
          "output_type": "display_data",
          "data": {
            "text/plain": [
              "<Figure size 640x480 with 1 Axes>"
            ],
            "image/png": "[encoded data removed]"
          },
          "metadata": {}
        }
      ]
    },
    {
      "cell_type": "code",
      "source": [
        "#-------------------------------------------------- INITIAL TESTS --------------------------------------------------------\n",
        "\n",
        "\n",
        "prompt1 = \"\"\"Once upon a midnight dreary, while I pondered, weak and weary,\n",
        "Over many a quaint and curious volume of forgotten lore—\n",
        "    While I nodded, nearly napping, suddenly there came a tapping,\n",
        "As of some one gently rapping, rapping at my chamber door.\n",
        "“’Tis some visitor,” I muttered, “tapping at my chamber door—\n",
        "            Only this and nothing more.”\n",
        "\n",
        "    Ah, distinctly I remember it was in the bleak December;\n",
        "And each separate dying ember wrought its ghost upon the floor.\n",
        "    Eagerly I wished the morrow;—vainly I had sought to borrow\n",
        "    From my books surcease of sorrow—sorrow for the lost Lenore—\n",
        "For the rare and radiant maiden whom the angels name Lenore—\n",
        "            Nameless here for evermore.\n",
        "\n",
        "    And the silken, sad, uncertain rustling of each purple curtain\n",
        "Thrilled me—filled me with fantastic terrors never felt before;\n",
        "    So that now, to still the beating of my heart, I stood repeating\n",
        "    “’Tis some visitor entreating entrance at my chamber door—\n",
        "Some late visitor entreating entrance at my chamber door;—\n",
        "            This it is and nothing more.”\n",
        "\n",
        "    Presently my soul grew stronger; hesitating then no longer,\n",
        "“Sir,” said I, “or Madam, truly your forgiveness I implore;\n",
        "    But the fact is I was napping, and so gently you came rapping,\n",
        "    And so faintly you came tapping, tapping at my chamber door,\n",
        "That I scarce was sure I heard you”—here I opened wide the door;—\n",
        "            Darkness there and nothing more.\n",
        "\n",
        "    Deep into that darkness peering, long I stood there wondering, fearing,\n",
        "Doubting, dreaming dreams no mortal ever dared to dream before;\n",
        "    But the silence was unbroken, and the stillness gave no token,\n",
        "    And the only word there spoken was the whispered word, “Lenore?”\n",
        "This I whispered, and an echo murmured back the word, “Lenore!”—\n",
        "            Merely this and nothing more.\n",
        "\n",
        "    Back into the chamber turning, all my soul within me burning,\n",
        "Soon again I heard a tapping somewhat louder than before.\n",
        "    “Surely,” said I, “surely that is something at my window lattice;\n",
        "      Let me see, then, what thereat is, and this mystery explore—\n",
        "Let my heart be still a moment and this mystery explore;—\n",
        "            ’Tis the wind and nothing more!”\n",
        "\n",
        "    Open here I flung the shutter, when, with many a flirt and flutter,\n",
        "In there stepped a stately Raven of the saintly days of yore;\n",
        "    Not the least obeisance made he; not a minute stopped or stayed he;\n",
        "    But, with mien of lord or lady, perched above my chamber door—\n",
        "Perched upon a bust of Pallas just above my chamber door—\n",
        "            Perched, and sat, and nothing more.\n",
        "\n",
        "Then this ebony bird beguiling my sad fancy into smiling,\n",
        "By the grave and stern decorum of the countenance it wore,\n",
        "“Though thy crest be shorn and shaven, thou,” I said, “art sure no craven,\n",
        "Ghastly grim and ancient Raven wandering from the Nightly shore—\n",
        "Tell me what thy lordly name is on the Night’s Plutonian shore!”\n",
        "            Quoth the Raven “Nevermore.”\n",
        "\n",
        "    Much I marvelled this ungainly fowl to hear discourse so plainly,\n",
        "Though its answer little meaning—little relevancy bore;\n",
        "    For we cannot help agreeing that no living human being\n",
        "    Ever yet was blessed with seeing bird above his chamber door—\n",
        "Bird or beast upon the sculptured bust above his chamber door,\n",
        "            With such name as “Nevermore.”\n",
        "\n",
        "    But the Raven, sitting lonely on the placid bust, spoke only\n",
        "That one word, as if his soul in that one word he did outpour.\n",
        "    Nothing farther then he uttered—not a feather then he fluttered—\n",
        "    Till I scarcely more than muttered “Other friends have flown before—\n",
        "On the morrow he will leave me, as my Hopes have flown before.”\n",
        "            Then the bird said “Nevermore.”\n",
        "\n",
        "    Startled at the stillness broken by reply so aptly spoken,\n",
        "“Doubtless,” said I, “what it utters is its only stock and store\n",
        "    Caught from some unhappy master whom unmerciful Disaster\n",
        "    Followed fast and followed faster till his songs one burden bore—\n",
        "Till the dirges of his Hope that melancholy burden bore\n",
        "            Of ‘Never—nevermore’.”\n",
        "\n",
        "    But the Raven still beguiling all my fancy into smiling,\n",
        "Straight I wheeled a cushioned seat in front of bird, and bust and door;\n",
        "    Then, upon the velvet sinking, I betook myself to linking\n",
        "    Fancy unto fancy, thinking what this ominous bird of yore—\n",
        "What this grim, ungainly, ghastly, gaunt, and ominous bird of yore\n",
        "            Meant in croaking “Nevermore.”\n",
        "\n",
        "    This I sat engaged in guessing, but no syllable expressing\n",
        "To the fowl whose fiery eyes now burned into my bosom’s core;\n",
        "    This and more I sat divining, with my head at ease reclining\n",
        "    On the cushion’s velvet lining that the lamp-light gloated o’er,\n",
        "But whose velvet-violet lining with the lamp-light gloating o’er,\n",
        "            She shall press, ah, nevermore!\n",
        "\n",
        "    Then, methought, the air grew denser, perfumed from an unseen censer\n",
        "Swung by Seraphim whose foot-falls tinkled on the tufted floor.\n",
        "    “Wretch,” I cried, “thy God hath lent thee—by these angels he hath sent thee\n",
        "    Respite—respite and nepenthe from thy memories of Lenore;\n",
        "Quaff, oh quaff this kind nepenthe and forget this lost Lenore!”\n",
        "            Quoth the Raven “Nevermore.”\n",
        "\n",
        "    “Prophet!” said I, “thing of evil!—prophet still, if bird or devil!—\n",
        "Whether Tempter sent, or whether tempest tossed thee here ashore,\n",
        "    Desolate yet all undaunted, on this desert land enchanted—\n",
        "    On this home by Horror haunted—tell me truly, I implore—\n",
        "Is there—is there balm in Gilead?—tell me—tell me, I implore!”\n",
        "            Quoth the Raven “Nevermore.”\n",
        "\n",
        "    “Prophet!” said I, “thing of evil!—prophet still, if bird or devil!\n",
        "By that Heaven that bends above us—by that God we both adore—\n",
        "    Tell this soul with sorrow laden if, within the distant Aidenn,\n",
        "    It shall clasp a sainted maiden whom the angels name Lenore—\n",
        "Clasp a rare and radiant maiden whom the angels name Lenore.”\n",
        "            Quoth the Raven “Nevermore.”\n",
        "\n",
        "    “Be that word our sign of parting, bird or fiend!” I shrieked, upstarting—\n",
        "“Get thee back into the tempest and the Night’s Plutonian shore!\n",
        "    Leave no black plume as a token of that lie thy soul hath spoken!\n",
        "    Leave my loneliness unbroken!—quit the bust above my door!\n",
        "Take thy beak from out my heart, and take thy form from off my door!”\n",
        "            Quoth the Raven “Nevermore.”\n",
        "\n",
        "    And the Raven, never flitting, still is sitting, still is sitting\n",
        "On the pallid bust of Pallas just above my chamber door;\n",
        "    And his eyes have all the seeming of a demon’s that is dreaming,\n",
        "    And the lamp-light o’er him streaming throws his shadow on the floor;\n",
        "And my soul from out that shadow that lies floating on the floor\n",
        "            Shall be lifted—nevermore!\n",
        "\n",
        "\"\"\" # The Raven, Edgar Allen Poe\n",
        "\n",
        "prompt2= \"\"\"In my younger and more vulnerable years my father gave me some advice that I've been turning over in my mind ever since.\n",
        "\"Whenever you feel like criticizing any one,\" he told me, \"just remember that all the people in this world haven't had the advantages that you've had.\"\n",
        "He didn't say any more but we've always been unusually communicative in a reserved way, and I understood that he meant a great deal more than that. In consequence I'm inclined to reserve all judgments, a habit that has opened up many curious natures to me and also made me the victim of not a few veteran bores. The abnormal mind is quick to detect and attach itself to this quality when it appears in a normal person, and so it came about that in college I was unjustly accused of being a politician, because I was privy to the secret griefs of wild, unknown men. Most of the confidences were unsought—frequently I have feigned sleep, preoccupation, or a hostile levity when I realized by some unmistakable sign that an intimate revelation was quivering on the horizon—for the intimate revelations of young men or at least the terms in which they express them are usually plagiaristic and marred by obvious suppressions. Reserving judgments is a matter of infinite hope. I am still a little afraid of missing something if I forget that, as my father snobbishly suggested, and I snobbishly repeat, a sense of the fundamental decencies is parcelled out unequally at birth.\n",
        "And, after boasting this way of my tolerance, I come to the admission that it has a limit. Conduct may be founded on the hard rock or the wet marshes but after a certain point I don't care what it's founded on. When I came back from the East last autumn I felt that I wanted the world to be in uniform and at a sort of moral attention forever; I wanted no more riotous excursions with privileged glimpses into the human heart. Only Gatsby, the man who gives his name to this book, was exempt from my reaction—Gatsby who represented everything for which I have an unaffected scorn. If personality is an unbroken series of successful gestures, then there was something gorgeous about him, some heightened sensitivity to the promises of life, as if he were related to one of those intricate machines that register earthquakes ten thousand miles away. This responsiveness had nothing to do with that flabby impressionability which is dignified under the name of the \"creative temperament\"—it was an extraordinary gift for hope, a romantic readiness such as I have never found in any other person and which it is not likely I shall ever find again. No—Gatsby turned out all right at the end; it is what preyed on Gatsby, what foul dust floated in the wake of his dreams that temporarily closed out my interest in the abortive sorrows and short-winded elations of men.\n",
        "My family have been prominent, well-to-do people in this middle-western city for three generations. The Carraways are something of a clan and we have a tradition that we're descended from the Dukes of Buccleuch, but the actual founder of my line was my grandfather's brother who came here in fifty-one, sent a substitute to the Civil War and started the wholesale hardware business that my father carries on today.\n",
        "I never saw this great-uncle but I'm supposed to look like him—with special reference to the rather hard-boiled painting that hangs in Father's office. I graduated from New Haven in 1915, just a quarter of a century after my father, and a little later I participated in that delayed Teutonic migration known as the Great War. I enjoyed the counter-raid so thoroughly that I came back restless. Instead of being the warm center of the world the middle-west now seemed like the ragged edge of the universe—so I decided to go east and learn the bond business. Everybody I knew was in the bond business so I supposed it could support one more single man. All my aunts and uncles talked it over as if they were choosing a prep-school for me and finally said, \"Why—ye-es\" with very grave, hesitant faces. Father agreed to finance me for a year and after various delays I came east, permanently, I thought, in the spring of twenty-two.\n",
        "The practical thing was to find rooms in the city but it was a warm season and I had just left a country of wide lawns and friendly trees, so when a young man at the office suggested that we take a house together in a commuting town it sounded like a great idea. He found the house, a weather beaten cardboard bungalow at eighty a month, but at the last minute the firm ordered him to Washington and I went out to the country alone. I had a dog, at least I had him for a few days until he ran away, and an old Dodge and a Finnish woman who made my bed and cooked breakfast and muttered Finnish wisdom to herself over the electric stove.\n",
        "\"\"\" # The Great Gatsby, F.Scott Fitzgerals\n",
        "\n",
        "prompt3 = \"\"\"Thank you for this wonderful welcome. Thank you to the people of Prague. And thank you to\n",
        "the people of the Czech Republic. Today, I am proud to stand here with you in the middle of\n",
        "this great city, in the center of Europe. And - to paraphrase one my predecessors - I am also\n",
        "proud to be the man who brought Michelle Obama to Prague.\n",
        "I have learned over many years to appreciate the good company and good humor of the Czech\n",
        "people in my hometown of Chicago. Behind me is a statue of a hero of the Czech people -\n",
        "Tomas Masaryk. In 1918, after America had pledged its support for Czech independence,\n",
        "Masaryk spoke to a crowd in Chicago that was estimated to be over 100.000. I don't think I\n",
        "can match Masaryk's record, but I'm honored to follow his footsteps from Chicago to Prague.\n",
        "For over a thousand years, Prague has set itself apart from any other city in any other place.\n",
        "You have known war and peace. You have seen empires rise and fall. You have led\n",
        "revolutions in the arts and science, in politics and poetry. Through it all, the people of Prague\n",
        "have insisted on pursuing their own path, and defining their own destiny. And this city - this\n",
        "Golden City which is both ancient and youthful - stands as a living monument to your\n",
        "unconquerable spirit.\n",
        "When I was born, the world was divided, and our nations were faced with very different\n",
        "circumstances. Few people would have predicted that someone like me would one day\n",
        "become an American President. Few people would have predicted that an American President\n",
        "would one day be permitted to speak to an audience like this in Prague. And few would have\n",
        "imagined that the Czech Republic would become a free nation, a member of NATO, and a\n",
        "leader of a united Europe. Those ideas would have been dismissed as dreams.\n",
        "We are here today because enough people ignored the voices who told them that the world\n",
        "could not change.\n",
        "We are here today because of the courage of those who stood up - and took risks - to say that\n",
        "freedom is a right for all people, no matter what side of a wall they live on, and no matter\n",
        "what they look like. \"\"\" # Obama - speech to Prague (https://vlada.gov.cz/assets/media-centrum/aktualne/Speech-of-Barack-Obama.pdf)\n",
        "\n",
        "tokens1 = model.to_tokens(prompt1) # 1024 tokens (Tensor(1, 1024))\n",
        "tokens2 = model.to_tokens(prompt2) # 1024 tokens\n",
        "tokens3 = model.to_tokens(prompt3)\n",
        "\n",
        "\n",
        "# -------------------------- Info --------------------------\n",
        "# For all these tests, we look at layer 11, and the resid_post_mlp bit, as specified in globals. Using OpenAI v5_32k SAE and GPT-2. Comment out whatever below\n",
        "# ------------------------------------------------------------\n",
        "\n",
        "# analyse_dim_freqs(tokens1)\n",
        "analyse_dim_freqs(tokens2, splitter = \" I\", onehot = False, temp = 1)\n",
        "analyse_dim_freqs(tokens3, splitter = \" I\", onehot = False, temp = 1)\n",
        "analyse_dim_freqs(tokens3, splitter = \" Czech\", onehot = False, temp = 1)\n",
        "# analyse_PCA(tokens1, splitter = \" I\")\n",
        "\n",
        "# analyse_PCA(tokens2, splitter = \" I\")\n",
        "\n",
        "# analyse_PCA_eigvals(tokens1, splitter = \" I\")\n",
        "\n",
        "# analyse_PCA_eigvals(tokens2, splitter = \" I\")"
      ],
      "metadata": {
        "colab": {
          "base_uri": "https://localhost:8080/",
          "height": 863
        },
        "id": "ywT2pl11svTy",
        "outputId": "75c02495-e977-41bd-dfbd-93f18e03b643"
      },
      "execution_count": null,
      "outputs": [
        {
          "output_type": "stream",
          "name": "stdout",
          "text": [
            "Signal data shape: torch.Size([1024, 32768])\n"
          ]
        },
        {
          "output_type": "stream",
          "name": "stderr",
          "text": [
            "<ipython-input-6-458bcc48a2db>:89: UserWarning: Implicit dimension choice for softmax has been deprecated. Change the call to include dim=X as an argument.\n",
            "  plt.plot(torch.nn.functional.softmax(avg_freqs/temp), alpha = 0.2) # Uses a softmax with temperature to bring out spikes in dimension more, just for playing around.\n"
          ]
        },
        {
          "output_type": "error",
          "ename": "TypeError",
          "evalue": "can't convert cuda:0 device type tensor to numpy. Use Tensor.cpu() to copy the tensor to host memory first.",
          "traceback": [
            "\u001b[0;31m---------------------------------------------------------------------------\u001b[0m",
            "\u001b[0;31mTypeError\u001b[0m                                 Traceback (most recent call last)",
            "\u001b[0;32m<ipython-input-7-7ad8e1b5d6f1>\u001b[0m in \u001b[0;36m<cell line: 178>\u001b[0;34m()\u001b[0m\n\u001b[1;32m    176\u001b[0m \u001b[0;34m\u001b[0m\u001b[0m\n\u001b[1;32m    177\u001b[0m \u001b[0;31m# analyse_dim_freqs(tokens1)\u001b[0m\u001b[0;34m\u001b[0m\u001b[0;34m\u001b[0m\u001b[0m\n\u001b[0;32m--> 178\u001b[0;31m \u001b[0manalyse_dim_freqs\u001b[0m\u001b[0;34m(\u001b[0m\u001b[0mtokens2\u001b[0m\u001b[0;34m,\u001b[0m \u001b[0msplitter\u001b[0m \u001b[0;34m=\u001b[0m \u001b[0;34m\" I\"\u001b[0m\u001b[0;34m,\u001b[0m \u001b[0monehot\u001b[0m \u001b[0;34m=\u001b[0m \u001b[0;32mFalse\u001b[0m\u001b[0;34m,\u001b[0m \u001b[0mtemp\u001b[0m \u001b[0;34m=\u001b[0m \u001b[0;36m1\u001b[0m\u001b[0;34m)\u001b[0m\u001b[0;34m\u001b[0m\u001b[0;34m\u001b[0m\u001b[0m\n\u001b[0m\u001b[1;32m    179\u001b[0m \u001b[0manalyse_dim_freqs\u001b[0m\u001b[0;34m(\u001b[0m\u001b[0mtokens3\u001b[0m\u001b[0;34m,\u001b[0m \u001b[0msplitter\u001b[0m \u001b[0;34m=\u001b[0m \u001b[0;34m\" I\"\u001b[0m\u001b[0;34m,\u001b[0m \u001b[0monehot\u001b[0m \u001b[0;34m=\u001b[0m \u001b[0;32mFalse\u001b[0m\u001b[0;34m,\u001b[0m \u001b[0mtemp\u001b[0m \u001b[0;34m=\u001b[0m \u001b[0;36m1\u001b[0m\u001b[0;34m)\u001b[0m\u001b[0;34m\u001b[0m\u001b[0;34m\u001b[0m\u001b[0m\n\u001b[1;32m    180\u001b[0m \u001b[0manalyse_dim_freqs\u001b[0m\u001b[0;34m(\u001b[0m\u001b[0mtokens3\u001b[0m\u001b[0;34m,\u001b[0m \u001b[0msplitter\u001b[0m \u001b[0;34m=\u001b[0m \u001b[0;34m\" Czech\"\u001b[0m\u001b[0;34m,\u001b[0m \u001b[0monehot\u001b[0m \u001b[0;34m=\u001b[0m \u001b[0;32mFalse\u001b[0m\u001b[0;34m,\u001b[0m \u001b[0mtemp\u001b[0m \u001b[0;34m=\u001b[0m \u001b[0;36m1\u001b[0m\u001b[0;34m)\u001b[0m\u001b[0;34m\u001b[0m\u001b[0;34m\u001b[0m\u001b[0m\n",
            "\u001b[0;32m<ipython-input-6-458bcc48a2db>\u001b[0m in \u001b[0;36manalyse_dim_freqs\u001b[0;34m(token, splitter, onehot, temp, layer_index, location)\u001b[0m\n\u001b[1;32m     87\u001b[0m   \u001b[0mdp_non_zeros\u001b[0m \u001b[0;34m=\u001b[0m \u001b[0;34m(\u001b[0m\u001b[0mdata_parsed\u001b[0m\u001b[0;34m!=\u001b[0m\u001b[0;36m0\u001b[0m\u001b[0;34m)\u001b[0m\u001b[0;34m.\u001b[0m\u001b[0mint\u001b[0m\u001b[0;34m(\u001b[0m\u001b[0;34m)\u001b[0m \u001b[0;32mif\u001b[0m \u001b[0monehot\u001b[0m \u001b[0;32melse\u001b[0m \u001b[0mdata_parsed\u001b[0m \u001b[0;31m# if onehot, then look at when a dimension is turned on, and ignore the actual value (frequency). Not\u001b[0m\u001b[0;34m\u001b[0m\u001b[0;34m\u001b[0m\u001b[0m\n\u001b[1;32m     88\u001b[0m   \u001b[0mavg_freqs\u001b[0m \u001b[0;34m=\u001b[0m \u001b[0mtorch\u001b[0m\u001b[0;34m.\u001b[0m\u001b[0mmean\u001b[0m\u001b[0;34m(\u001b[0m\u001b[0;34m(\u001b[0m\u001b[0mdp_non_zeros\u001b[0m \u001b[0;34m/\u001b[0m \u001b[0mdp_non_zeros\u001b[0m\u001b[0;34m.\u001b[0m\u001b[0msum\u001b[0m\u001b[0;34m(\u001b[0m\u001b[0mdim\u001b[0m\u001b[0;34m=\u001b[0m\u001b[0;34m-\u001b[0m\u001b[0;36m1\u001b[0m\u001b[0;34m)\u001b[0m\u001b[0;34m.\u001b[0m\u001b[0munsqueeze\u001b[0m\u001b[0;34m(\u001b[0m\u001b[0;34m-\u001b[0m\u001b[0;36m1\u001b[0m\u001b[0;34m)\u001b[0m\u001b[0;34m)\u001b[0m\u001b[0;34m,\u001b[0m \u001b[0mdim\u001b[0m \u001b[0;34m=\u001b[0m \u001b[0;36m0\u001b[0m\u001b[0;34m)\u001b[0m \u001b[0;31m# for a given decomposition (1 x 32k), we normalize this so it adds to 1 (probability distribution). We then average along all decompositions (no of decompositions is no of instances of \"splitter\" word in text)\u001b[0m\u001b[0;34m\u001b[0m\u001b[0;34m\u001b[0m\u001b[0m\n\u001b[0;32m---> 89\u001b[0;31m   \u001b[0mplt\u001b[0m\u001b[0;34m.\u001b[0m\u001b[0mplot\u001b[0m\u001b[0;34m(\u001b[0m\u001b[0mtorch\u001b[0m\u001b[0;34m.\u001b[0m\u001b[0mnn\u001b[0m\u001b[0;34m.\u001b[0m\u001b[0mfunctional\u001b[0m\u001b[0;34m.\u001b[0m\u001b[0msoftmax\u001b[0m\u001b[0;34m(\u001b[0m\u001b[0mavg_freqs\u001b[0m\u001b[0;34m/\u001b[0m\u001b[0mtemp\u001b[0m\u001b[0;34m)\u001b[0m\u001b[0;34m,\u001b[0m \u001b[0malpha\u001b[0m \u001b[0;34m=\u001b[0m \u001b[0;36m0.2\u001b[0m\u001b[0;34m)\u001b[0m \u001b[0;31m# Uses a softmax with temperature to bring out spikes in dimension more, just for playing around.\u001b[0m\u001b[0;34m\u001b[0m\u001b[0;34m\u001b[0m\u001b[0m\n\u001b[0m",
            "\u001b[0;32m/usr/local/lib/python3.10/dist-packages/matplotlib/pyplot.py\u001b[0m in \u001b[0;36mplot\u001b[0;34m(scalex, scaley, data, *args, **kwargs)\u001b[0m\n\u001b[1;32m   2810\u001b[0m \u001b[0;34m@\u001b[0m\u001b[0m_copy_docstring_and_deprecators\u001b[0m\u001b[0;34m(\u001b[0m\u001b[0mAxes\u001b[0m\u001b[0;34m.\u001b[0m\u001b[0mplot\u001b[0m\u001b[0;34m)\u001b[0m\u001b[0;34m\u001b[0m\u001b[0;34m\u001b[0m\u001b[0m\n\u001b[1;32m   2811\u001b[0m \u001b[0;32mdef\u001b[0m \u001b[0mplot\u001b[0m\u001b[0;34m(\u001b[0m\u001b[0;34m*\u001b[0m\u001b[0margs\u001b[0m\u001b[0;34m,\u001b[0m \u001b[0mscalex\u001b[0m\u001b[0;34m=\u001b[0m\u001b[0;32mTrue\u001b[0m\u001b[0;34m,\u001b[0m \u001b[0mscaley\u001b[0m\u001b[0;34m=\u001b[0m\u001b[0;32mTrue\u001b[0m\u001b[0;34m,\u001b[0m \u001b[0mdata\u001b[0m\u001b[0;34m=\u001b[0m\u001b[0;32mNone\u001b[0m\u001b[0;34m,\u001b[0m \u001b[0;34m**\u001b[0m\u001b[0mkwargs\u001b[0m\u001b[0;34m)\u001b[0m\u001b[0;34m:\u001b[0m\u001b[0;34m\u001b[0m\u001b[0;34m\u001b[0m\u001b[0m\n\u001b[0;32m-> 2812\u001b[0;31m     return gca().plot(\n\u001b[0m\u001b[1;32m   2813\u001b[0m         \u001b[0;34m*\u001b[0m\u001b[0margs\u001b[0m\u001b[0;34m,\u001b[0m \u001b[0mscalex\u001b[0m\u001b[0;34m=\u001b[0m\u001b[0mscalex\u001b[0m\u001b[0;34m,\u001b[0m \u001b[0mscaley\u001b[0m\u001b[0;34m=\u001b[0m\u001b[0mscaley\u001b[0m\u001b[0;34m,\u001b[0m\u001b[0;34m\u001b[0m\u001b[0;34m\u001b[0m\u001b[0m\n\u001b[1;32m   2814\u001b[0m         **({\"data\": data} if data is not None else {}), **kwargs)\n",
            "\u001b[0;32m/usr/local/lib/python3.10/dist-packages/matplotlib/axes/_axes.py\u001b[0m in \u001b[0;36mplot\u001b[0;34m(self, scalex, scaley, data, *args, **kwargs)\u001b[0m\n\u001b[1;32m   1688\u001b[0m         \u001b[0mlines\u001b[0m \u001b[0;34m=\u001b[0m \u001b[0;34m[\u001b[0m\u001b[0;34m*\u001b[0m\u001b[0mself\u001b[0m\u001b[0;34m.\u001b[0m\u001b[0m_get_lines\u001b[0m\u001b[0;34m(\u001b[0m\u001b[0;34m*\u001b[0m\u001b[0margs\u001b[0m\u001b[0;34m,\u001b[0m \u001b[0mdata\u001b[0m\u001b[0;34m=\u001b[0m\u001b[0mdata\u001b[0m\u001b[0;34m,\u001b[0m \u001b[0;34m**\u001b[0m\u001b[0mkwargs\u001b[0m\u001b[0;34m)\u001b[0m\u001b[0;34m]\u001b[0m\u001b[0;34m\u001b[0m\u001b[0;34m\u001b[0m\u001b[0m\n\u001b[1;32m   1689\u001b[0m         \u001b[0;32mfor\u001b[0m \u001b[0mline\u001b[0m \u001b[0;32min\u001b[0m \u001b[0mlines\u001b[0m\u001b[0;34m:\u001b[0m\u001b[0;34m\u001b[0m\u001b[0;34m\u001b[0m\u001b[0m\n\u001b[0;32m-> 1690\u001b[0;31m             \u001b[0mself\u001b[0m\u001b[0;34m.\u001b[0m\u001b[0madd_line\u001b[0m\u001b[0;34m(\u001b[0m\u001b[0mline\u001b[0m\u001b[0;34m)\u001b[0m\u001b[0;34m\u001b[0m\u001b[0;34m\u001b[0m\u001b[0m\n\u001b[0m\u001b[1;32m   1691\u001b[0m         \u001b[0;32mif\u001b[0m \u001b[0mscalex\u001b[0m\u001b[0;34m:\u001b[0m\u001b[0;34m\u001b[0m\u001b[0;34m\u001b[0m\u001b[0m\n\u001b[1;32m   1692\u001b[0m             \u001b[0mself\u001b[0m\u001b[0;34m.\u001b[0m\u001b[0m_request_autoscale_view\u001b[0m\u001b[0;34m(\u001b[0m\u001b[0;34m\"x\"\u001b[0m\u001b[0;34m)\u001b[0m\u001b[0;34m\u001b[0m\u001b[0;34m\u001b[0m\u001b[0m\n",
            "\u001b[0;32m/usr/local/lib/python3.10/dist-packages/matplotlib/axes/_base.py\u001b[0m in \u001b[0;36madd_line\u001b[0;34m(self, line)\u001b[0m\n\u001b[1;32m   2302\u001b[0m             \u001b[0mline\u001b[0m\u001b[0;34m.\u001b[0m\u001b[0mset_clip_path\u001b[0m\u001b[0;34m(\u001b[0m\u001b[0mself\u001b[0m\u001b[0;34m.\u001b[0m\u001b[0mpatch\u001b[0m\u001b[0;34m)\u001b[0m\u001b[0;34m\u001b[0m\u001b[0;34m\u001b[0m\u001b[0m\n\u001b[1;32m   2303\u001b[0m \u001b[0;34m\u001b[0m\u001b[0m\n\u001b[0;32m-> 2304\u001b[0;31m         \u001b[0mself\u001b[0m\u001b[0;34m.\u001b[0m\u001b[0m_update_line_limits\u001b[0m\u001b[0;34m(\u001b[0m\u001b[0mline\u001b[0m\u001b[0;34m)\u001b[0m\u001b[0;34m\u001b[0m\u001b[0;34m\u001b[0m\u001b[0m\n\u001b[0m\u001b[1;32m   2305\u001b[0m         \u001b[0;32mif\u001b[0m \u001b[0;32mnot\u001b[0m \u001b[0mline\u001b[0m\u001b[0;34m.\u001b[0m\u001b[0mget_label\u001b[0m\u001b[0;34m(\u001b[0m\u001b[0;34m)\u001b[0m\u001b[0;34m:\u001b[0m\u001b[0;34m\u001b[0m\u001b[0;34m\u001b[0m\u001b[0m\n\u001b[1;32m   2306\u001b[0m             \u001b[0mline\u001b[0m\u001b[0;34m.\u001b[0m\u001b[0mset_label\u001b[0m\u001b[0;34m(\u001b[0m\u001b[0;34mf'_child{len(self._children)}'\u001b[0m\u001b[0;34m)\u001b[0m\u001b[0;34m\u001b[0m\u001b[0;34m\u001b[0m\u001b[0m\n",
            "\u001b[0;32m/usr/local/lib/python3.10/dist-packages/matplotlib/axes/_base.py\u001b[0m in \u001b[0;36m_update_line_limits\u001b[0;34m(self, line)\u001b[0m\n\u001b[1;32m   2325\u001b[0m         \u001b[0mFigures\u001b[0m \u001b[0mout\u001b[0m \u001b[0mthe\u001b[0m \u001b[0mdata\u001b[0m \u001b[0mlimit\u001b[0m \u001b[0mof\u001b[0m \u001b[0mthe\u001b[0m \u001b[0mgiven\u001b[0m \u001b[0mline\u001b[0m\u001b[0;34m,\u001b[0m \u001b[0mupdating\u001b[0m \u001b[0mself\u001b[0m\u001b[0;34m.\u001b[0m\u001b[0mdataLim\u001b[0m\u001b[0;34m.\u001b[0m\u001b[0;34m\u001b[0m\u001b[0;34m\u001b[0m\u001b[0m\n\u001b[1;32m   2326\u001b[0m         \"\"\"\n\u001b[0;32m-> 2327\u001b[0;31m         \u001b[0mpath\u001b[0m \u001b[0;34m=\u001b[0m \u001b[0mline\u001b[0m\u001b[0;34m.\u001b[0m\u001b[0mget_path\u001b[0m\u001b[0;34m(\u001b[0m\u001b[0;34m)\u001b[0m\u001b[0;34m\u001b[0m\u001b[0;34m\u001b[0m\u001b[0m\n\u001b[0m\u001b[1;32m   2328\u001b[0m         \u001b[0;32mif\u001b[0m \u001b[0mpath\u001b[0m\u001b[0;34m.\u001b[0m\u001b[0mvertices\u001b[0m\u001b[0;34m.\u001b[0m\u001b[0msize\u001b[0m \u001b[0;34m==\u001b[0m \u001b[0;36m0\u001b[0m\u001b[0;34m:\u001b[0m\u001b[0;34m\u001b[0m\u001b[0;34m\u001b[0m\u001b[0m\n\u001b[1;32m   2329\u001b[0m             \u001b[0;32mreturn\u001b[0m\u001b[0;34m\u001b[0m\u001b[0;34m\u001b[0m\u001b[0m\n",
            "\u001b[0;32m/usr/local/lib/python3.10/dist-packages/matplotlib/lines.py\u001b[0m in \u001b[0;36mget_path\u001b[0;34m(self)\u001b[0m\n\u001b[1;32m   1027\u001b[0m         \u001b[0;34m\"\"\"Return the `~matplotlib.path.Path` associated with this line.\"\"\"\u001b[0m\u001b[0;34m\u001b[0m\u001b[0;34m\u001b[0m\u001b[0m\n\u001b[1;32m   1028\u001b[0m         \u001b[0;32mif\u001b[0m \u001b[0mself\u001b[0m\u001b[0;34m.\u001b[0m\u001b[0m_invalidy\u001b[0m \u001b[0;32mor\u001b[0m \u001b[0mself\u001b[0m\u001b[0;34m.\u001b[0m\u001b[0m_invalidx\u001b[0m\u001b[0;34m:\u001b[0m\u001b[0;34m\u001b[0m\u001b[0;34m\u001b[0m\u001b[0m\n\u001b[0;32m-> 1029\u001b[0;31m             \u001b[0mself\u001b[0m\u001b[0;34m.\u001b[0m\u001b[0mrecache\u001b[0m\u001b[0;34m(\u001b[0m\u001b[0;34m)\u001b[0m\u001b[0;34m\u001b[0m\u001b[0;34m\u001b[0m\u001b[0m\n\u001b[0m\u001b[1;32m   1030\u001b[0m         \u001b[0;32mreturn\u001b[0m \u001b[0mself\u001b[0m\u001b[0;34m.\u001b[0m\u001b[0m_path\u001b[0m\u001b[0;34m\u001b[0m\u001b[0;34m\u001b[0m\u001b[0m\n\u001b[1;32m   1031\u001b[0m \u001b[0;34m\u001b[0m\u001b[0m\n",
            "\u001b[0;32m/usr/local/lib/python3.10/dist-packages/matplotlib/lines.py\u001b[0m in \u001b[0;36mrecache\u001b[0;34m(self, always)\u001b[0m\n\u001b[1;32m    660\u001b[0m         \u001b[0;32mif\u001b[0m \u001b[0malways\u001b[0m \u001b[0;32mor\u001b[0m \u001b[0mself\u001b[0m\u001b[0;34m.\u001b[0m\u001b[0m_invalidy\u001b[0m\u001b[0;34m:\u001b[0m\u001b[0;34m\u001b[0m\u001b[0;34m\u001b[0m\u001b[0m\n\u001b[1;32m    661\u001b[0m             \u001b[0myconv\u001b[0m \u001b[0;34m=\u001b[0m \u001b[0mself\u001b[0m\u001b[0;34m.\u001b[0m\u001b[0mconvert_yunits\u001b[0m\u001b[0;34m(\u001b[0m\u001b[0mself\u001b[0m\u001b[0;34m.\u001b[0m\u001b[0m_yorig\u001b[0m\u001b[0;34m)\u001b[0m\u001b[0;34m\u001b[0m\u001b[0;34m\u001b[0m\u001b[0m\n\u001b[0;32m--> 662\u001b[0;31m             \u001b[0my\u001b[0m \u001b[0;34m=\u001b[0m \u001b[0m_to_unmasked_float_array\u001b[0m\u001b[0;34m(\u001b[0m\u001b[0myconv\u001b[0m\u001b[0;34m)\u001b[0m\u001b[0;34m.\u001b[0m\u001b[0mravel\u001b[0m\u001b[0;34m(\u001b[0m\u001b[0;34m)\u001b[0m\u001b[0;34m\u001b[0m\u001b[0;34m\u001b[0m\u001b[0m\n\u001b[0m\u001b[1;32m    663\u001b[0m         \u001b[0;32melse\u001b[0m\u001b[0;34m:\u001b[0m\u001b[0;34m\u001b[0m\u001b[0;34m\u001b[0m\u001b[0m\n\u001b[1;32m    664\u001b[0m             \u001b[0my\u001b[0m \u001b[0;34m=\u001b[0m \u001b[0mself\u001b[0m\u001b[0;34m.\u001b[0m\u001b[0m_y\u001b[0m\u001b[0;34m\u001b[0m\u001b[0;34m\u001b[0m\u001b[0m\n",
            "\u001b[0;32m/usr/local/lib/python3.10/dist-packages/matplotlib/cbook/__init__.py\u001b[0m in \u001b[0;36m_to_unmasked_float_array\u001b[0;34m(x)\u001b[0m\n\u001b[1;32m   1333\u001b[0m         \u001b[0;32mreturn\u001b[0m \u001b[0mnp\u001b[0m\u001b[0;34m.\u001b[0m\u001b[0mma\u001b[0m\u001b[0;34m.\u001b[0m\u001b[0masarray\u001b[0m\u001b[0;34m(\u001b[0m\u001b[0mx\u001b[0m\u001b[0;34m,\u001b[0m \u001b[0mfloat\u001b[0m\u001b[0;34m)\u001b[0m\u001b[0;34m.\u001b[0m\u001b[0mfilled\u001b[0m\u001b[0;34m(\u001b[0m\u001b[0mnp\u001b[0m\u001b[0;34m.\u001b[0m\u001b[0mnan\u001b[0m\u001b[0;34m)\u001b[0m\u001b[0;34m\u001b[0m\u001b[0;34m\u001b[0m\u001b[0m\n\u001b[1;32m   1334\u001b[0m     \u001b[0;32melse\u001b[0m\u001b[0;34m:\u001b[0m\u001b[0;34m\u001b[0m\u001b[0;34m\u001b[0m\u001b[0m\n\u001b[0;32m-> 1335\u001b[0;31m         \u001b[0;32mreturn\u001b[0m \u001b[0mnp\u001b[0m\u001b[0;34m.\u001b[0m\u001b[0masarray\u001b[0m\u001b[0;34m(\u001b[0m\u001b[0mx\u001b[0m\u001b[0;34m,\u001b[0m \u001b[0mfloat\u001b[0m\u001b[0;34m)\u001b[0m\u001b[0;34m\u001b[0m\u001b[0;34m\u001b[0m\u001b[0m\n\u001b[0m\u001b[1;32m   1336\u001b[0m \u001b[0;34m\u001b[0m\u001b[0m\n\u001b[1;32m   1337\u001b[0m \u001b[0;34m\u001b[0m\u001b[0m\n",
            "\u001b[0;32m/usr/local/lib/python3.10/dist-packages/torch/_tensor.py\u001b[0m in \u001b[0;36m__array__\u001b[0;34m(self, dtype)\u001b[0m\n\u001b[1;32m   1030\u001b[0m             \u001b[0;32mreturn\u001b[0m \u001b[0mself\u001b[0m\u001b[0;34m.\u001b[0m\u001b[0mnumpy\u001b[0m\u001b[0;34m(\u001b[0m\u001b[0;34m)\u001b[0m\u001b[0;34m\u001b[0m\u001b[0;34m\u001b[0m\u001b[0m\n\u001b[1;32m   1031\u001b[0m         \u001b[0;32melse\u001b[0m\u001b[0;34m:\u001b[0m\u001b[0;34m\u001b[0m\u001b[0;34m\u001b[0m\u001b[0m\n\u001b[0;32m-> 1032\u001b[0;31m             \u001b[0;32mreturn\u001b[0m \u001b[0mself\u001b[0m\u001b[0;34m.\u001b[0m\u001b[0mnumpy\u001b[0m\u001b[0;34m(\u001b[0m\u001b[0;34m)\u001b[0m\u001b[0;34m.\u001b[0m\u001b[0mastype\u001b[0m\u001b[0;34m(\u001b[0m\u001b[0mdtype\u001b[0m\u001b[0;34m,\u001b[0m \u001b[0mcopy\u001b[0m\u001b[0;34m=\u001b[0m\u001b[0;32mFalse\u001b[0m\u001b[0;34m)\u001b[0m\u001b[0;34m\u001b[0m\u001b[0;34m\u001b[0m\u001b[0m\n\u001b[0m\u001b[1;32m   1033\u001b[0m \u001b[0;34m\u001b[0m\u001b[0m\n\u001b[1;32m   1034\u001b[0m     \u001b[0;31m# Wrap Numpy array again in a suitable tensor when done, to support e.g.\u001b[0m\u001b[0;34m\u001b[0m\u001b[0;34m\u001b[0m\u001b[0m\n",
            "\u001b[0;31mTypeError\u001b[0m: can't convert cuda:0 device type tensor to numpy. Use Tensor.cpu() to copy the tensor to host memory first."
          ]
        },
        {
          "output_type": "display_data",
          "data": {
            "text/plain": [
              "<Figure size 640x480 with 1 Axes>"
            ],
            "image/png": "[encoded data removed]"
          },
          "metadata": {}
        }
      ]
    },
    {
      "cell_type": "code",
      "source": [
        "def plot_ts_cov(promptsmall, probes = []): # Gets signal (ie list of tokens at successive 'timesteps', and plots covariance). Probes are standalone words run through model for comparisons and correspond to the block at the end in visualisations\n",
        "  promptsmalltokens = model.to_tokens(promptsmall)\n",
        "  # for i in (promptsmalltokens[0]):\n",
        "  #   print(model.to_string(i)) # prints tokens\n",
        "\n",
        "  promptsmalltoken_strings = [model.to_string(i.item()) for i in promptsmalltokens[0]] # for labelling plot with tokens. Note labels actually correspond to signal up until word, not just the word on its own, but for visualisation we just plot the word on the axes\n",
        "\n",
        "  if len(probes) != 0: # if we are also plotting probes\n",
        "    promptsmalldata, autoenc = get_time_signal_data(promptsmalltokens, return_autoenc = True) # reuses same 'autoenc' later for speed. Note signals are sequential\n",
        "\n",
        "    probedata = []\n",
        "    for probe in probes:\n",
        "      probetokens = model.to_tokens(probe)\n",
        "      probedata.append(find_recons(probetokens, autoenc))\n",
        "      for i in probetokens[0]:\n",
        "        promptsmalltoken_strings.append(model.to_string(i))\n",
        "    probedata = torch.stack([row.view(-1) for tensor in probedata for row in tensor], dim=0)\n",
        "    # ^ processes the probes so they can be dotted and visualised nicely\n",
        "\n",
        "    promptsmallcovariance = torch.cov(torch.cat((promptsmalldata, probedata), 0)) # calculates covariance\n",
        "  else: # if no probes\n",
        "    promptsmalldata = get_time_signal_data(promptsmalltokens, return_autoenc = False)\n",
        "    promptsmallcovariance = torch.corrcoef(promptsmalldata)\n",
        "\n",
        "  plt.figure(figsize=(10, 8))\n",
        "  ax = sns.heatmap(torch.Tensor.cpu(promptsmallcovariance), xticklabels=promptsmalltoken_strings, yticklabels=promptsmalltoken_strings, cmap = \"viridis\")\n",
        "  ax.set_xticklabels(ax.get_xticklabels(), rotation=90)  # Rotate x labels for better readability\n",
        "  plt.title(\"Covariance Matrix Heatmap\")\n",
        "  plt.show()"
      ],
      "metadata": {
        "id": "KGT7bT3Zrw9Y"
      },
      "execution_count": null,
      "outputs": []
    },
    {
      "cell_type": "code",
      "source": [
        "# --------------------------------EXPERIMENTS----------------------------------------------\n",
        "plot_ts_cov(\n",
        "promptsmall = \"\"\"Birds can fly but chickens cannot Birds can fly but chickens cannot Birds can fly but chickens cannot Birds can fly but chickens cannot Birds can fly but chickens cannot Birds can fly but chickens cannot Birds can fly but chickens cannot Birds can fly but eggs cannot.\n",
        "\"\"\")"
      ],
      "metadata": {
        "id": "vku4ha0YbQ3h",
        "colab": {
          "base_uri": "https://localhost:8080/",
          "height": 791
        },
        "outputId": "d51c4dd6-c0f9-4120-9a39-be0fb12ab3ed"
      },
      "execution_count": null,
      "outputs": [
        {
          "output_type": "stream",
          "name": "stdout",
          "text": [
            "Signal data shape: torch.Size([52, 32768])\n"
          ]
        },
        {
          "output_type": "display_data",
          "data": {
            "text/plain": [
              "<Figure size 1000x800 with 2 Axes>"
            ],
            "image/png": "[encoded data removed]"
          },
          "metadata": {}
        }
      ]
    },
    {
      "cell_type": "code",
      "source": [
        "plot_ts_cov(\n",
        "    promptsmall = \"\"\"\n",
        "    2+2=4\n",
        "    2+3=5\n",
        "    5+7=12\n",
        "    6+2=8\n",
        "    5+2=7\n",
        "    4+2=6\n",
        "    1+4=5\n",
        "    3+8=11\n",
        "    9+1=10\n",
        "    1+5=6\n",
        "    2+2=4\n",
        "    2+7=9\n",
        "    5+6=11\n",
        "    2+4=6\n",
        "    1+8=9\n",
        "    6+7=13\n",
        "    7+8=15\n",
        "    1+3=4\n",
        "    4+4=8\n",
        "    \"\"\"\n",
        ")\n",
        "plot_ts_cov(\n",
        "    promptsmall = \"\"\"\n",
        "    2+2=4\n",
        "    2+3=5\n",
        "    5+7=12\n",
        "    6+2=6\n",
        "    5+2=7\n",
        "    4+2=6\n",
        "    1+4=5\n",
        "    3+8=11\n",
        "    9+1=10\n",
        "    1+5=6\n",
        "    2+2=4\n",
        "    2+7=9\n",
        "    5+6=11\n",
        "    2+4=6\n",
        "    1+8=9\n",
        "    6+7=13\n",
        "    7+8=15\n",
        "    1+3=4\n",
        "    4+4=8\n",
        "    \"\"\"\n",
        ")#6+2=6\n",
        "plot_ts_cov(\n",
        "    promptsmall = \"\"\"\n",
        "    2+2=4\n",
        "    2+3=5\n",
        "    5+7=12\n",
        "    6+2=8\n",
        "    5+2=7\n",
        "    4+2=6\n",
        "    1+4=5\n",
        "    3+8=11\n",
        "    9+1=10\n",
        "    1+5=6\n",
        "    2+2=4\n",
        "    2+7=9\n",
        "    5+6=11\n",
        "    2+4=6\n",
        "    1+8=9\n",
        "    6+7=13\n",
        "    7+8=10\n",
        "    1+3=4\n",
        "    4+4=8\n",
        "    \"\"\"\n",
        ")#7+8=10"
      ],
      "metadata": {
        "id": "QA4YbX-4x1FQ",
        "colab": {
          "base_uri": "https://localhost:8080/",
          "height": 408
        },
        "outputId": "28308016-3226-4699-e0f5-fc2fb9952a7a"
      },
      "execution_count": null,
      "outputs": [
        {
          "output_type": "stream",
          "name": "stdout",
          "text": [
            "Signal data shape: torch.Size([177, 32768])\n"
          ]
        },
        {
          "output_type": "error",
          "ename": "TypeError",
          "evalue": "can't convert cuda:0 device type tensor to numpy. Use Tensor.cpu() to copy the tensor to host memory first.",
          "traceback": [
            "\u001b[0;31m---------------------------------------------------------------------------\u001b[0m",
            "\u001b[0;31mTypeError\u001b[0m                                 Traceback (most recent call last)",
            "\u001b[0;32m<ipython-input-16-8d061ddd32a4>\u001b[0m in \u001b[0;36m<cell line: 1>\u001b[0;34m()\u001b[0m\n\u001b[0;32m----> 1\u001b[0;31m plot_ts_cov(\n\u001b[0m\u001b[1;32m      2\u001b[0m     promptsmall = \"\"\"\n\u001b[1;32m      3\u001b[0m     \u001b[0;36m2\u001b[0m\u001b[0;34m+\u001b[0m\u001b[0;36m2\u001b[0m\u001b[0;34m=\u001b[0m\u001b[0;36m4\u001b[0m\u001b[0;34m\u001b[0m\u001b[0;34m\u001b[0m\u001b[0m\n\u001b[1;32m      4\u001b[0m     \u001b[0;36m2\u001b[0m\u001b[0;34m+\u001b[0m\u001b[0;36m3\u001b[0m\u001b[0;34m=\u001b[0m\u001b[0;36m5\u001b[0m\u001b[0;34m\u001b[0m\u001b[0;34m\u001b[0m\u001b[0m\n\u001b[1;32m      5\u001b[0m     \u001b[0;36m5\u001b[0m\u001b[0;34m+\u001b[0m\u001b[0;36m7\u001b[0m\u001b[0;34m=\u001b[0m\u001b[0;36m12\u001b[0m\u001b[0;34m\u001b[0m\u001b[0;34m\u001b[0m\u001b[0m\n",
            "\u001b[0;32m<ipython-input-15-4ece8c0b4f94>\u001b[0m in \u001b[0;36mplot_ts_cov\u001b[0;34m(promptsmall, probes)\u001b[0m\n\u001b[1;32m     24\u001b[0m \u001b[0;34m\u001b[0m\u001b[0m\n\u001b[1;32m     25\u001b[0m   \u001b[0mplt\u001b[0m\u001b[0;34m.\u001b[0m\u001b[0mfigure\u001b[0m\u001b[0;34m(\u001b[0m\u001b[0mfigsize\u001b[0m\u001b[0;34m=\u001b[0m\u001b[0;34m(\u001b[0m\u001b[0;36m10\u001b[0m\u001b[0;34m,\u001b[0m \u001b[0;36m8\u001b[0m\u001b[0;34m)\u001b[0m\u001b[0;34m)\u001b[0m\u001b[0;34m\u001b[0m\u001b[0;34m\u001b[0m\u001b[0m\n\u001b[0;32m---> 26\u001b[0;31m   \u001b[0max\u001b[0m \u001b[0;34m=\u001b[0m \u001b[0msns\u001b[0m\u001b[0;34m.\u001b[0m\u001b[0mheatmap\u001b[0m\u001b[0;34m(\u001b[0m\u001b[0mpromptsmallcovariance\u001b[0m\u001b[0;34m,\u001b[0m \u001b[0mxticklabels\u001b[0m\u001b[0;34m=\u001b[0m\u001b[0mpromptsmalltoken_strings\u001b[0m\u001b[0;34m,\u001b[0m \u001b[0myticklabels\u001b[0m\u001b[0;34m=\u001b[0m\u001b[0mpromptsmalltoken_strings\u001b[0m\u001b[0;34m,\u001b[0m \u001b[0mcmap\u001b[0m \u001b[0;34m=\u001b[0m \u001b[0;34m\"viridis\"\u001b[0m\u001b[0;34m)\u001b[0m\u001b[0;34m\u001b[0m\u001b[0;34m\u001b[0m\u001b[0m\n\u001b[0m\u001b[1;32m     27\u001b[0m   \u001b[0max\u001b[0m\u001b[0;34m.\u001b[0m\u001b[0mset_xticklabels\u001b[0m\u001b[0;34m(\u001b[0m\u001b[0max\u001b[0m\u001b[0;34m.\u001b[0m\u001b[0mget_xticklabels\u001b[0m\u001b[0;34m(\u001b[0m\u001b[0;34m)\u001b[0m\u001b[0;34m,\u001b[0m \u001b[0mrotation\u001b[0m\u001b[0;34m=\u001b[0m\u001b[0;36m90\u001b[0m\u001b[0;34m)\u001b[0m  \u001b[0;31m# Rotate x labels for better readability\u001b[0m\u001b[0;34m\u001b[0m\u001b[0;34m\u001b[0m\u001b[0m\n\u001b[1;32m     28\u001b[0m   \u001b[0mplt\u001b[0m\u001b[0;34m.\u001b[0m\u001b[0mtitle\u001b[0m\u001b[0;34m(\u001b[0m\u001b[0;34m\"Covariance Matrix Heatmap\"\u001b[0m\u001b[0;34m)\u001b[0m\u001b[0;34m\u001b[0m\u001b[0;34m\u001b[0m\u001b[0m\n",
            "\u001b[0;32m/usr/local/lib/python3.10/dist-packages/seaborn/matrix.py\u001b[0m in \u001b[0;36mheatmap\u001b[0;34m(data, vmin, vmax, cmap, center, robust, annot, fmt, annot_kws, linewidths, linecolor, cbar, cbar_kws, cbar_ax, square, xticklabels, yticklabels, mask, ax, **kwargs)\u001b[0m\n\u001b[1;32m    444\u001b[0m     \"\"\"\n\u001b[1;32m    445\u001b[0m     \u001b[0;31m# Initialize the plotter object\u001b[0m\u001b[0;34m\u001b[0m\u001b[0;34m\u001b[0m\u001b[0m\n\u001b[0;32m--> 446\u001b[0;31m     plotter = _HeatMapper(data, vmin, vmax, cmap, center, robust, annot, fmt,\n\u001b[0m\u001b[1;32m    447\u001b[0m                           \u001b[0mannot_kws\u001b[0m\u001b[0;34m,\u001b[0m \u001b[0mcbar\u001b[0m\u001b[0;34m,\u001b[0m \u001b[0mcbar_kws\u001b[0m\u001b[0;34m,\u001b[0m \u001b[0mxticklabels\u001b[0m\u001b[0;34m,\u001b[0m\u001b[0;34m\u001b[0m\u001b[0;34m\u001b[0m\u001b[0m\n\u001b[1;32m    448\u001b[0m                           yticklabels, mask)\n",
            "\u001b[0;32m/usr/local/lib/python3.10/dist-packages/seaborn/matrix.py\u001b[0m in \u001b[0;36m__init__\u001b[0;34m(self, data, vmin, vmax, cmap, center, robust, annot, fmt, annot_kws, cbar, cbar_kws, xticklabels, yticklabels, mask)\u001b[0m\n\u001b[1;32m    107\u001b[0m             \u001b[0mplot_data\u001b[0m \u001b[0;34m=\u001b[0m \u001b[0mdata\u001b[0m\u001b[0;34m.\u001b[0m\u001b[0mvalues\u001b[0m\u001b[0;34m\u001b[0m\u001b[0;34m\u001b[0m\u001b[0m\n\u001b[1;32m    108\u001b[0m         \u001b[0;32melse\u001b[0m\u001b[0;34m:\u001b[0m\u001b[0;34m\u001b[0m\u001b[0;34m\u001b[0m\u001b[0m\n\u001b[0;32m--> 109\u001b[0;31m             \u001b[0mplot_data\u001b[0m \u001b[0;34m=\u001b[0m \u001b[0mnp\u001b[0m\u001b[0;34m.\u001b[0m\u001b[0masarray\u001b[0m\u001b[0;34m(\u001b[0m\u001b[0mdata\u001b[0m\u001b[0;34m)\u001b[0m\u001b[0;34m\u001b[0m\u001b[0;34m\u001b[0m\u001b[0m\n\u001b[0m\u001b[1;32m    110\u001b[0m             \u001b[0mdata\u001b[0m \u001b[0;34m=\u001b[0m \u001b[0mpd\u001b[0m\u001b[0;34m.\u001b[0m\u001b[0mDataFrame\u001b[0m\u001b[0;34m(\u001b[0m\u001b[0mplot_data\u001b[0m\u001b[0;34m)\u001b[0m\u001b[0;34m\u001b[0m\u001b[0;34m\u001b[0m\u001b[0m\n\u001b[1;32m    111\u001b[0m \u001b[0;34m\u001b[0m\u001b[0m\n",
            "\u001b[0;32m/usr/local/lib/python3.10/dist-packages/torch/_tensor.py\u001b[0m in \u001b[0;36m__array__\u001b[0;34m(self, dtype)\u001b[0m\n\u001b[1;32m   1028\u001b[0m             \u001b[0;32mreturn\u001b[0m \u001b[0mhandle_torch_function\u001b[0m\u001b[0;34m(\u001b[0m\u001b[0mTensor\u001b[0m\u001b[0;34m.\u001b[0m\u001b[0m__array__\u001b[0m\u001b[0;34m,\u001b[0m \u001b[0;34m(\u001b[0m\u001b[0mself\u001b[0m\u001b[0;34m,\u001b[0m\u001b[0;34m)\u001b[0m\u001b[0;34m,\u001b[0m \u001b[0mself\u001b[0m\u001b[0;34m,\u001b[0m \u001b[0mdtype\u001b[0m\u001b[0;34m=\u001b[0m\u001b[0mdtype\u001b[0m\u001b[0;34m)\u001b[0m\u001b[0;34m\u001b[0m\u001b[0;34m\u001b[0m\u001b[0m\n\u001b[1;32m   1029\u001b[0m         \u001b[0;32mif\u001b[0m \u001b[0mdtype\u001b[0m \u001b[0;32mis\u001b[0m \u001b[0;32mNone\u001b[0m\u001b[0;34m:\u001b[0m\u001b[0;34m\u001b[0m\u001b[0;34m\u001b[0m\u001b[0m\n\u001b[0;32m-> 1030\u001b[0;31m             \u001b[0;32mreturn\u001b[0m \u001b[0mself\u001b[0m\u001b[0;34m.\u001b[0m\u001b[0mnumpy\u001b[0m\u001b[0;34m(\u001b[0m\u001b[0;34m)\u001b[0m\u001b[0;34m\u001b[0m\u001b[0;34m\u001b[0m\u001b[0m\n\u001b[0m\u001b[1;32m   1031\u001b[0m         \u001b[0;32melse\u001b[0m\u001b[0;34m:\u001b[0m\u001b[0;34m\u001b[0m\u001b[0;34m\u001b[0m\u001b[0m\n\u001b[1;32m   1032\u001b[0m             \u001b[0;32mreturn\u001b[0m \u001b[0mself\u001b[0m\u001b[0;34m.\u001b[0m\u001b[0mnumpy\u001b[0m\u001b[0;34m(\u001b[0m\u001b[0;34m)\u001b[0m\u001b[0;34m.\u001b[0m\u001b[0mastype\u001b[0m\u001b[0;34m(\u001b[0m\u001b[0mdtype\u001b[0m\u001b[0;34m,\u001b[0m \u001b[0mcopy\u001b[0m\u001b[0;34m=\u001b[0m\u001b[0;32mFalse\u001b[0m\u001b[0;34m)\u001b[0m\u001b[0;34m\u001b[0m\u001b[0;34m\u001b[0m\u001b[0m\n",
            "\u001b[0;31mTypeError\u001b[0m: can't convert cuda:0 device type tensor to numpy. Use Tensor.cpu() to copy the tensor to host memory first."
          ]
        },
        {
          "output_type": "display_data",
          "data": {
            "text/plain": [
              "<Figure size 1000x800 with 0 Axes>"
            ]
          },
          "metadata": {}
        }
      ]
    },
    {
      "cell_type": "markdown",
      "source": [
        "Note: For third experiment (mistake later on), bar is present just after 7+8=10 - result is uncorrelated with beforehand? suggests learning truth maybe"
      ],
      "metadata": {
        "id": "QuImu04930jL"
      }
    },
    {
      "cell_type": "markdown",
      "source": [
        "Nonlinear Dimensionality Reduction"
      ],
      "metadata": {
        "id": "pasnieq78MZy"
      }
    },
    {
      "cell_type": "code",
      "source": [
        "from sklearn.manifold import SpectralEmbedding, Isomap\n",
        "\n",
        "# Functions\n",
        "def lap_eig(token, dim = 2):\n",
        "  X = get_time_signal_data(model.to_tokens(token))\n",
        "  embedding = SpectralEmbedding(n_components = dim)\n",
        "  X_transformed = embedding.fit_transform(X)\n",
        "  X_transformed.shape\n",
        "  return X_transformed\n",
        "\n",
        "def isomap(token, dim = 2, n_neighbors = 5):\n",
        "  X = get_time_signal_data(model.to_tokens(token))\n",
        "  embedding = Isomap(n_components = dim, n_neighbors = n_neighbors)\n",
        "  X_transformed = embedding.fit_transform(X)\n",
        "  X_transformed.shape\n",
        "  return X_transformed\n",
        "\n",
        "\n",
        "def plot2d_col_grad(data):\n",
        "  no_points = data.shape[0]\n",
        "  cmap = plt.get_cmap(\"viridis\")\n",
        "  colors = np.linspace(0, 1, no_points)\n",
        "  for i in range(no_points):\n",
        "    plt.scatter(data[i][0], data[i][1], color = cmap(colors[i]))\n",
        "  plt.colorbar(plt.cm.ScalarMappable(cmap=cmap), label='Token no')\n",
        "\n",
        "\n",
        "def plot3d_col_grad(data):\n",
        "  fig = plt.figure()\n",
        "  ax = fig.add_subplot(projection = \"3d\")\n",
        "  no_points = data.shape[0]\n",
        "  cmap = plt.get_cmap(\"viridis\")\n",
        "  colors = np.linspace(0, 1, no_points)\n",
        "  for i in range(no_points):\n",
        "    ax.scatter(data[i][0], data[i][1], data[i][2], color = cmap(colors[i]))\n",
        "  plt.colorbar(plt.cm.ScalarMappable(cmap=cmap), label='Token no')\n",
        "\n"
      ],
      "metadata": {
        "colab": {
          "base_uri": "https://localhost:8080/",
          "height": 507
        },
        "id": "m9rPa1LnhbtK",
        "outputId": "c1508faa-5a17-49fd-e83f-329204d1edfe"
      },
      "execution_count": null,
      "outputs": [
        {
          "output_type": "stream",
          "name": "stdout",
          "text": [
            "Signal data shape: torch.Size([48, 32768])\n"
          ]
        },
        {
          "output_type": "stream",
          "name": "stderr",
          "text": [
            "<ipython-input-25-06176a40e5a0>:24: MatplotlibDeprecationWarning: Unable to determine Axes to steal space for Colorbar. Using gca(), but will raise in the future. Either provide the *cax* argument to use as the Axes for the Colorbar, provide the *ax* argument to steal space from it, or add *mappable* to an Axes.\n",
            "  plt.colorbar(plt.cm.ScalarMappable(cmap=cmap), label='Token no')\n"
          ]
        },
        {
          "output_type": "display_data",
          "data": {
            "text/plain": [
              "<Figure size 640x480 with 2 Axes>"
            ],
            "image/png": "[encoded data removed]"
          },
          "metadata": {}
        }
      ]
    },
    {
      "cell_type": "markdown",
      "source": [
        "Prompts"
      ],
      "metadata": {
        "id": "2ogf1YjH9o9n"
      }
    },
    {
      "cell_type": "code",
      "source": [
        "\n",
        "p_birds = \"\"\"Birds can fly but chickens cannot Birds can fly but chickens cannot Birds can fly but chickens cannot Birds can fly but chickens cannot Birds can fly but chickens cannot Birds can fly but chickens cannot Birds can fly but chickens cannot Birds can fly but eggs cannot.\n",
        "\"\"\"\n",
        "p_greetings1 = \"\"\"Hello, Hi, So? Hello, Hi, So? Hello, Hi, So? Hello, Hi, So? Hello, Hi, So? Hello, Hi, So? Hello, Hi, So? Hello, Hi, So? Hello, Hi, So?\"\"\"\n",
        "\n",
        "p_greetings2 = \"\"\"Hello, Hi, Hello, Hi, Hello, Hi, Hello, Hi, Hello, Hi, Hello, Hi, Hello, Hi, Hello, Hi\"\"\"\n",
        "\n",
        "p_greetings2 = \"\"\"Bye, Adios, Bye, Adios, Bye, Adios, Bye, Adios, Bye, Adios, Bye, Adios, Bye, Adios, Bye, Adios, Bye, Adios\"\"\"\n",
        "\n",
        "p_addition = \"\"\"\n",
        "    2+2=4\n",
        "    2+3=5\n",
        "    5+7=12\n",
        "    6+2=8\n",
        "    5+2=7\n",
        "    4+2=6\n",
        "    1+4=5\n",
        "    3+8=11\n",
        "    9+1=10\n",
        "    1+5=6\n",
        "    2+2=4\n",
        "    2+7=9\n",
        "    5+6=11\n",
        "    2+4=6\n",
        "    1+8=9\n",
        "    6+7=13\n",
        "    7+8=15\n",
        "    1+3=4\n",
        "    4+4=8\n",
        "    \"\"\"\n",
        "\n",
        "p_raven = \"\"\"Once upon a midnight dreary, while I pondered, weak and weary,\n",
        "Over many a quaint and curious volume of forgotten lore—\n",
        "    While I nodded, nearly napping, suddenly there came a tapping,\n",
        "As of some one gently rapping, rapping at my chamber door.\n",
        "“’Tis some visitor,” I muttered, “tapping at my chamber door—\n",
        "            Only this and nothing more.”\n",
        "\n",
        "    Ah, distinctly I remember it was in the bleak December;\n",
        "And each separate dying ember wrought its ghost upon the floor.\n",
        "    Eagerly I wished the morrow;—vainly I had sought to borrow\n",
        "    From my books surcease of sorrow—sorrow for the lost Lenore—\n",
        "For the rare and radiant maiden whom the angels name Lenore—\n",
        "            Nameless here for evermore.\n",
        "\n",
        "    And the silken, sad, uncertain rustling of each purple curtain\n",
        "Thrilled me—filled me with fantastic terrors never felt before;\n",
        "    So that now, to still the beating of my heart, I stood repeating\n",
        "    “’Tis some visitor entreating entrance at my chamber door—\n",
        "Some late visitor entreating entrance at my chamber door;—\n",
        "            This it is and nothing more.”\n",
        "\n",
        "    Presently my soul grew stronger; hesitating then no longer,\n",
        "“Sir,” said I, “or Madam, truly your forgiveness I implore;\n",
        "    But the fact is I was napping, and so gently you came rapping,\n",
        "    And so faintly you came tapping, tapping at my chamber door,\n",
        "That I scarce was sure I heard you”—here I opened wide the door;—\n",
        "            Darkness there and nothing more.\n",
        "\n",
        "    Deep into that darkness peering, long I stood there wondering, fearing,\n",
        "Doubting, dreaming dreams no mortal ever dared to dream before;\n",
        "    But the silence was unbroken, and the stillness gave no token,\n",
        "    And the only word there spoken was the whispered word, “Lenore?”\n",
        "This I whispered, and an echo murmured back the word, “Lenore!”—\n",
        "            Merely this and nothing more.\n",
        "\n",
        "    Back into the chamber turning, all my soul within me burning,\n",
        "Soon again I heard a tapping somewhat louder than before.\n",
        "    “Surely,” said I, “surely that is something at my window lattice;\n",
        "      Let me see, then, what thereat is, and this mystery explore—\n",
        "Let my heart be still a moment and this mystery explore;—\n",
        "            ’Tis the wind and nothing more!”\n",
        "\n",
        "    Open here I flung the shutter, when, with many a flirt and flutter,\n",
        "In there stepped a stately Raven of the saintly days of yore;\n",
        "    Not the least obeisance made he; not a minute stopped or stayed he;\n",
        "    But, with mien of lord or lady, perched above my chamber door—\n",
        "Perched upon a bust of Pallas just above my chamber door—\n",
        "            Perched, and sat, and nothing more.\n",
        "\n",
        "Then this ebony bird beguiling my sad fancy into smiling,\n",
        "By the grave and stern decorum of the countenance it wore,\n",
        "“Though thy crest be shorn and shaven, thou,” I said, “art sure no craven,\n",
        "Ghastly grim and ancient Raven wandering from the Nightly shore—\n",
        "Tell me what thy lordly name is on the Night’s Plutonian shore!”\n",
        "            Quoth the Raven “Nevermore.”\n",
        "\n",
        "    Much I marvelled this ungainly fowl to hear discourse so plainly,\n",
        "Though its answer little meaning—little relevancy bore;\n",
        "    For we cannot help agreeing that no living human being\n",
        "    Ever yet was blessed with seeing bird above his chamber door—\n",
        "Bird or beast upon the sculptured bust above his chamber door,\n",
        "            With such name as “Nevermore.”\n",
        "\n",
        "    But the Raven, sitting lonely on the placid bust, spoke only\n",
        "That one word, as if his soul in that one word he did outpour.\n",
        "    Nothing farther then he uttered—not a feather then he fluttered—\n",
        "    Till I scarcely more than muttered “Other friends have flown before—\n",
        "On the morrow he will leave me, as my Hopes have flown before.”\n",
        "            Then the bird said “Nevermore.”\n",
        "\n",
        "    Startled at the stillness broken by reply so aptly spoken,\n",
        "“Doubtless,” said I, “what it utters is its only stock and store\n",
        "    Caught from some unhappy master whom unmerciful Disaster\n",
        "    Followed fast and followed faster till his songs one burden bore—\n",
        "Till the dirges of his Hope that melancholy burden bore\n",
        "            Of ‘Never—nevermore’.”\n",
        "\n",
        "    But the Raven still beguiling all my fancy into smiling,\n",
        "Straight I wheeled a cushioned seat in front of bird, and bust and door;\n",
        "    Then, upon the velvet sinking, I betook myself to linking\n",
        "    Fancy unto fancy, thinking what this ominous bird of yore—\n",
        "What this grim, ungainly, ghastly, gaunt, and ominous bird of yore\n",
        "            Meant in croaking “Nevermore.”\n",
        "\n",
        "    This I sat engaged in guessing, but no syllable expressing\n",
        "To the fowl whose fiery eyes now burned into my bosom’s core;\n",
        "    This and more I sat divining, with my head at ease reclining\n",
        "    On the cushion’s velvet lining that the lamp-light gloated o’er,\n",
        "But whose velvet-violet lining with the lamp-light gloating o’er,\n",
        "            She shall press, ah, nevermore!\n",
        "\n",
        "    Then, methought, the air grew denser, perfumed from an unseen censer\n",
        "Swung by Seraphim whose foot-falls tinkled on the tufted floor.\n",
        "    “Wretch,” I cried, “thy God hath lent thee—by these angels he hath sent thee\n",
        "    Respite—respite and nepenthe from thy memories of Lenore;\n",
        "Quaff, oh quaff this kind nepenthe and forget this lost Lenore!”\n",
        "            Quoth the Raven “Nevermore.”\n",
        "\n",
        "    “Prophet!” said I, “thing of evil!—prophet still, if bird or devil!—\n",
        "Whether Tempter sent, or whether tempest tossed thee here ashore,\n",
        "    Desolate yet all undaunted, on this desert land enchanted—\n",
        "    On this home by Horror haunted—tell me truly, I implore—\n",
        "Is there—is there balm in Gilead?—tell me—tell me, I implore!”\n",
        "            Quoth the Raven “Nevermore.”\n",
        "\n",
        "    “Prophet!” said I, “thing of evil!—prophet still, if bird or devil!\n",
        "By that Heaven that bends above us—by that God we both adore—\n",
        "    Tell this soul with sorrow laden if, within the distant Aidenn,\n",
        "    It shall clasp a sainted maiden whom the angels name Lenore—\n",
        "Clasp a rare and radiant maiden whom the angels name Lenore.”\n",
        "            Quoth the Raven “Nevermore.”\n",
        "\n",
        "    “Be that word our sign of parting, bird or fiend!” I shrieked, upstarting—\n",
        "“Get thee back into the tempest and the Night’s Plutonian shore!\n",
        "    Leave no black plume as a token of that lie thy soul hath spoken!\n",
        "    Leave my loneliness unbroken!—quit the bust above my door!\n",
        "Take thy beak from out my heart, and take thy form from off my door!”\n",
        "            Quoth the Raven “Nevermore.”\n",
        "\n",
        "    And the Raven, never flitting, still is sitting, still is sitting\n",
        "On the pallid bust of Pallas just above my chamber door;\n",
        "    And his eyes have all the seeming of a demon’s that is dreaming,\n",
        "    And the lamp-light o’er him streaming throws his shadow on the floor;\n",
        "And my soul from out that shadow that lies floating on the floor\n",
        "            Shall be lifted—nevermore!\n",
        "\n",
        "\"\"\"\n",
        "\n",
        "p_mix = \"\"\"If I can stop one heart from breaking,\n",
        "I shall not live in vain;\n",
        "If I can ease one life the aching,\n",
        "Or cool one pain,\n",
        "Or help one fainting robin\n",
        "Unto his nest again,\n",
        "I shall not live in vain.\n",
        "The severe and afflicting loss, which the Nation has sustained by the death of his Majesty, my beloved Uncle, has developed upon me the duty of administering the Government of this empire. This awful responsibility is imposed upon me so suddenly and at so early a period of my Life, that I should feel myself utterly oppresses by the burthen, were I not sustained by the hope, the Divine Providence, which has called me to this work, will give me strength for the performance of it, and that I shall fins in the purity of my Intentions and in my zeal for the public welfare that support and those resources, which usually belong to a more mature age and to longer experience.\n",
        "I place my firm reliance upon the wisdom of Parliament and upon the loyalty and affection of my People. I esteem it also a peculiar advantage, that I succeed to a Sovereign whose constant regard for the rights and Liberties of his Subjects and whose desire to promote the amelioration of the Laws and Institutions of the Country have rendered his name the object of general attachment and veneration. Educated in England under the tender and enlightened care of a most affectionate Mother I have learned from my Infancy to respect and love the Constitution of my native Country. It will be my unceasing study to maintain the reformed Religion as by Law established securing at the same time to all the full enjoyment of religious liberty, and I shall steadily protect the rights and promote to the utmost of my Power the happiness and welfare of all Classes of my Subjects.\n",
        "    \"\"\"\n",
        "\n",
        "\n",
        "p_poem_small = \"\"\"If I can stop one heart from breaking,\n",
        "I shall not live in vain;\n",
        "If I can ease one life the aching,\n",
        "Or cool one pain,\n",
        "Or help one fainting robin\n",
        "Unto his nest again,\n",
        "I shall not live in vain.\"\"\"\n",
        "\n",
        "\n",
        "p_obama = \"\"\"Thank you for this wonderful welcome. Thank you to the people of Prague. And thank you to\n",
        "the people of the Czech Republic. Today, I am proud to stand here with you in the middle of\n",
        "this great city, in the center of Europe. And - to paraphrase one my predecessors - I am also\n",
        "proud to be the man who brought Michelle Obama to Prague.\n",
        "I have learned over many years to appreciate the good company and good humor of the Czech\n",
        "people in my hometown of Chicago. Behind me is a statue of a hero of the Czech people -\n",
        "Tomas Masaryk. In 1918, after America had pledged its support for Czech independence,\n",
        "Masaryk spoke to a crowd in Chicago that was estimated to be over 100.000. I don't think I\n",
        "can match Masaryk's record, but I'm honored to follow his footsteps from Chicago to Prague.\n",
        "For over a thousand years, Prague has set itself apart from any other city in any other place.\n",
        "You have known war and peace. You have seen empires rise and fall. You have led\n",
        "revolutions in the arts and science, in politics and poetry. Through it all, the people of Prague\n",
        "have insisted on pursuing their own path, and defining their own destiny. And this city - this\n",
        "Golden City which is both ancient and youthful - stands as a living monument to your\n",
        "unconquerable spirit.\n",
        "When I was born, the world was divided, and our nations were faced with very different\n",
        "circumstances. Few people would have predicted that someone like me would one day\n",
        "become an American President. Few people would have predicted that an American President\n",
        "would one day be permitted to speak to an audience like this in Prague. And few would have\n",
        "imagined that the Czech Republic would become a free nation, a member of NATO, and a\n",
        "leader of a united Europe. Those ideas would have been dismissed as dreams.\n",
        "We are here today because enough people ignored the voices who told them that the world\n",
        "could not change.\n",
        "We are here today because of the courage of those who stood up - and took risks - to say that\n",
        "freedom is a right for all people, no matter what side of a wall they live on, and no matter\n",
        "what they look like. \"\"\" # Obama - speech to Prague (https://vlada.gov.cz/assets/media-centrum/aktualne/Speech-of-Barack-Obama.pdf)\n",
        "\n",
        "\n"
      ],
      "metadata": {
        "id": "xlHKJUHw9HFE"
      },
      "execution_count": null,
      "outputs": []
    },
    {
      "cell_type": "markdown",
      "source": [
        "Tests"
      ],
      "metadata": {
        "id": "82HGrVK_9gwP"
      }
    },
    {
      "cell_type": "code",
      "source": [
        "# p1_transformed3d = lap_eig(p_repetition, dim = 3)\n",
        "# p2_transformed3d = lap_eig(p_repetition2, dim = 3)\n",
        "\n",
        "\n",
        "# plt.plot(p1_transformed[:,0], p1_transformed[:,1], \"b.\")\n",
        "# plt.plot(p2_transformed[:,0], p2_transformed[:,1], \"r.\")\n",
        "\n",
        "# fig = plt.figure()\n",
        "# ax = fig.add_subplot(projection = \"3d\")\n",
        "# ax.scatter(p2_transformed3d[:,0], p2_transformed3d[:,1], p2_transformed3d[:,2], \"r.\")\n",
        "# ax.scatter(p1_transformed3d[:,0], p1_transformed3d[:,1], p1_transformed3d[:,2], \"b.\")\n",
        "# p3_transformed2d = lap_eig(p3, dim = 2)\n",
        "# p2_transformed2d = lap_eig(p_repetition2, dim = 2)\n",
        "\n",
        "\n",
        "# plt.plot(p3_transformed2d[:,0], p3_transformed2d[:,1], \"b.\")\n",
        "# plot2d_col_grad(p3_transformed2d)\n",
        "\n",
        "# plot2d_col_grad(p2_transformed2d)\n",
        "\n",
        "# p4_transformed = lap_eig(p4, dim = 2)\n",
        "# p5_transformed = lap_eig(p5, dim = 2)\n",
        "\n",
        "# plot2d_col_grad(p4_transformed)\n",
        "# plot2d_col_grad(p5_transformed)\n",
        "\n",
        "# p4_transformed_3d = lap_eig(p4, dim = 3)\n",
        "# p5_transformed_3d = lap_eig(p5, dim = 3)\n",
        "\n",
        "# prompt1_transformed = lap_eig(prompt1, dim = 2)\n",
        "# plot2d_col_grad(prompt1_transformed)\n",
        "\n",
        "# prompt1_isomap = isomap(p4, dim = 2, n_neighbors = 10)\n",
        "# plot2d_col_grad(prompt1_isomap)\n",
        "\n",
        "\n",
        "# prompt2_transformed = lap_eig(prompt2, dim = 3)\n",
        "# plot3d_col_grad(prompt2_transformed)\n",
        "# prompt2_f_transformed = lap_eig(prompt2_first, dim = 3)\n",
        "# plot3d_col_grad(prompt2_f_transformed)\n",
        "\n",
        "# prompt2_2d_tr = lap_eig(prompt2, dim = 2)\n",
        "# plot2d_col_grad(prompt2_2d_tr)\n",
        "\n",
        "# prompt3_transformed = lap_eig(prompt3, dim = 3)\n",
        "# plot3d_col_grad(prompt3_transformed)\n",
        "\n",
        "# plot2d_col_grad(prompt1_transformed)\n",
        "\n",
        "# fig = plt.figure()\n",
        "# ax = fig.add_subplot(projection = \"3d\")\n",
        "# ax.scatter(prompt1_transformed[:,0], prompt1_transformed[:,1], prompt1_transformed[:,2], \"r.\")\n",
        "# ax.scatter(p5_transformed_3d[:,0], p5_transformed_3d[:,1], p5_transformed_3d[:,2], \"r.\")\n",
        "\n",
        "# fig = plt.figure()\n",
        "# ax = fig.add_subplot(projection = \"3d\")\n",
        "# ax.scatter(p4_transformed_3d[:,0], p4_transformed_3d[:,1], p4_transformed_3d[:,2], \"r.\")\n",
        "# ax.scatter(p5_transformed_3d[:,0], p5_transformed_3d[:,1], p5_transformed_3d[:,2], \"r.\")\n",
        "\n"
      ],
      "metadata": {
        "id": "ZkizLIKy85co"
      },
      "execution_count": null,
      "outputs": []
    },
    {
      "cell_type": "markdown",
      "source": [
        "Logistic Classifier: - TAKES TOO LONG, HAVE TO RUN ON CLUSTER PROBABLY"
      ],
      "metadata": {
        "id": "bNL3AHBn9vyn"
      }
    },
    {
      "cell_type": "code",
      "source": [
        "# imports\n",
        "import datasets\n",
        "from datasets import load_dataset # this is hugging faces dataset class\n",
        "import random\n",
        "import torch.nn as nn\n",
        "import torch.optim as optim"
      ],
      "metadata": {
        "id": "1dJ7uUjZ_iK7"
      },
      "execution_count": null,
      "outputs": []
    },
    {
      "cell_type": "code",
      "source": [
        "# Prepping data\n",
        "\n",
        "# Poetry\n",
        "ds = load_dataset(\"biglam/gutenberg-poetry-corpus\") # load gutenberg\n",
        "df = ds['train'].to_pandas() # convert to pandas dataframe\n",
        "df = df.groupby('gutenberg_id')['line'] \\\n",
        "     .apply(lambda x: '\\n'.join(x)) \\\n",
        "     .reset_index(name='text') # combine individual lines\n",
        "# print(df.iloc[0]['text'])\n",
        "\n",
        "# Check the shape of the DataFrame\n",
        "shape = df.shape\n",
        "\n",
        "# Get the column names\n",
        "columns = df.columns.tolist()\n",
        "\n",
        "print(f\"Shape of DataFrame: {shape}\")\n",
        "print(f\"Column names: {columns}\")\n",
        "\n",
        "def training_example_generator(df, colname, min_token_depth = 50):\n",
        "  text = df.sample(n=1)[colname]\n",
        "  tokens = model.to_tokens(text)\n",
        "  # print(tokens.shape)\n",
        "  if tokens.shape[-1] > min_token_depth:\n",
        "    token_index = random.randint(min_token_depth, tokens.shape[-1] - 1)\n",
        "    return get_time_signal_data(tokens[:token_index])\n",
        "  else:\n",
        "    return None\n",
        "\n",
        "def get_rand_samples(df, colname, no_samples = 1000, min_token_depth = 50):\n",
        "  training_poetry = []\n",
        "  counter = 0\n",
        "  while counter < 1000:\n",
        "    z = training_example_generator(df, colname = colname, min_token_depth = min_token_depth)\n",
        "    if z != None:\n",
        "      training_poetry.append(z)\n",
        "      if (counter+1)%100 == 0:\n",
        "        print((counter+1)/no_samples)\n",
        "      counter+=1\n",
        "  print(f\"Done: No. of samples: {len(training_poetry)}\")\n",
        "  return training_poetry\n",
        "\n",
        "poetry_samples = get_rand_samples(df, colname = 'text', no_samples = 1000)\n",
        "\n",
        "# print(type(df))\n",
        "\n",
        "# BBC News\n",
        "ds2 = load_dataset(\"RealTimeData/bbc_news_alltime\", \"2017-01\")\n",
        "df2 = ds2['train'].to_pandas()\n",
        "print(df2['content'][0])\n",
        "\n",
        "news_samples = get_rand_samples(df2, colname = 'content', no_samples = 1000)\n"
      ],
      "metadata": {
        "colab": {
          "base_uri": "https://localhost:8080/"
        },
        "id": "h0Lezx6r9u8R",
        "outputId": "3030ef64-4773-46fc-8444-2a0d1e9b3ec6"
      },
      "execution_count": null,
      "outputs": [
        {
          "output_type": "stream",
          "name": "stdout",
          "text": [
            "Shape of DataFrame: (1191, 2)\n",
            "Column names: ['gutenberg_id', 'text']\n",
            "Signal data shape: torch.Size([1024, 32768])\n",
            "Signal data shape: torch.Size([1024, 32768])\n",
            "Signal data shape: torch.Size([1024, 32768])\n",
            "Signal data shape: torch.Size([1024, 32768])\n",
            "Signal data shape: torch.Size([1024, 32768])\n",
            "Signal data shape: torch.Size([1024, 32768])\n",
            "Signal data shape: torch.Size([1024, 32768])\n",
            "Signal data shape: torch.Size([1024, 32768])\n",
            "Signal data shape: torch.Size([1024, 32768])\n",
            "Signal data shape: torch.Size([1024, 32768])\n",
            "Signal data shape: torch.Size([1024, 32768])\n",
            "Signal data shape: torch.Size([1024, 32768])\n",
            "Signal data shape: torch.Size([1024, 32768])\n",
            "Signal data shape: torch.Size([1024, 32768])\n",
            "Signal data shape: torch.Size([1024, 32768])\n",
            "Signal data shape: torch.Size([1024, 32768])\n",
            "Signal data shape: torch.Size([1024, 32768])\n",
            "Signal data shape: torch.Size([1024, 32768])\n",
            "Signal data shape: torch.Size([1024, 32768])\n",
            "Signal data shape: torch.Size([1024, 32768])\n",
            "Signal data shape: torch.Size([1024, 32768])\n",
            "Signal data shape: torch.Size([1024, 32768])\n",
            "Signal data shape: torch.Size([1024, 32768])\n",
            "Signal data shape: torch.Size([1024, 32768])\n",
            "Signal data shape: torch.Size([1024, 32768])\n",
            "Signal data shape: torch.Size([1024, 32768])\n",
            "Signal data shape: torch.Size([1024, 32768])\n",
            "Signal data shape: torch.Size([1024, 32768])\n",
            "Signal data shape: torch.Size([1024, 32768])\n",
            "Signal data shape: torch.Size([643, 32768])\n",
            "Signal data shape: torch.Size([1024, 32768])\n",
            "Signal data shape: torch.Size([1024, 32768])\n",
            "Signal data shape: torch.Size([1024, 32768])\n",
            "Signal data shape: torch.Size([1024, 32768])\n",
            "Signal data shape: torch.Size([1024, 32768])\n",
            "Signal data shape: torch.Size([1024, 32768])\n",
            "Signal data shape: torch.Size([1024, 32768])\n",
            "Signal data shape: torch.Size([1024, 32768])\n",
            "Signal data shape: torch.Size([1024, 32768])\n",
            "Signal data shape: torch.Size([1024, 32768])\n",
            "Signal data shape: torch.Size([954, 32768])\n",
            "Signal data shape: torch.Size([1024, 32768])\n",
            "Signal data shape: torch.Size([1024, 32768])\n",
            "Signal data shape: torch.Size([1024, 32768])\n",
            "Signal data shape: torch.Size([1024, 32768])\n",
            "Signal data shape: torch.Size([1024, 32768])\n",
            "Signal data shape: torch.Size([1024, 32768])\n",
            "Signal data shape: torch.Size([1024, 32768])\n",
            "Signal data shape: torch.Size([1024, 32768])\n",
            "Signal data shape: torch.Size([1024, 32768])\n",
            "Signal data shape: torch.Size([1024, 32768])\n",
            "Signal data shape: torch.Size([1024, 32768])\n",
            "Signal data shape: torch.Size([1024, 32768])\n",
            "Signal data shape: torch.Size([784, 32768])\n"
          ]
        }
      ]
    },
    {
      "cell_type": "code",
      "source": [
        "# Model and training\n",
        "\n",
        "# poetry_probs_sparse = torch.Tensor(list(map(get_time_signal_data, poetry_samples)))\n",
        "# news_probs_sparse = torch.Tensor(list(map(get_time_signal_data, news_samples)))\n",
        "\n",
        "poetry_probs_sparse = torch.Tensor(poetry_samples)\n",
        "news_probs_sparse = torch.Tensor(news_samples)\n",
        "\n",
        "n, d = 1000, 32768\n",
        "\n",
        "poetry_labels = torch.ones((n, 1))\n",
        "news_labels = torch.zeros((n, 1))\n",
        "\n",
        "data = torch.vstack((poetry_probs_sparse, news_probs_sparse))\n",
        "labels = torch.vstack((poetry_labels, news_labels))\n",
        "\n",
        "# 3. Define the logistic regression model\n",
        "class LogisticRegression(nn.Module):\n",
        "    def __init__(self, input_dim):\n",
        "        super(LogisticRegression, self).__init__()\n",
        "        self.linear = nn.Linear(input_dim, 1)\n",
        "\n",
        "    def forward(self, x):\n",
        "        outputs = torch.sigmoid(self.linear(x))\n",
        "        return outputs\n",
        "\n",
        "model = LogisticRegression(d)\n",
        "\n",
        "# 4. Train the model\n",
        "criterion = nn.BCELoss()\n",
        "optimizer = optim.SGD(model.parameters(), lr=0.01)\n",
        "\n",
        "num_epochs = 1000\n",
        "for epoch in range(num_epochs):\n",
        "    # Forward pass\n",
        "    outputs = model(data)\n",
        "    loss = criterion(outputs, labels)\n",
        "\n",
        "    # Backward pass and optimization\n",
        "    optimizer.zero_grad()\n",
        "    loss.backward()\n",
        "    optimizer.step()\n",
        "\n",
        "    if (epoch+1) % 100 == 0:\n",
        "        print(f'Epoch [{epoch+1}/{num_epochs}], Loss: {loss.item():.4f}')\n",
        "\n",
        "# 5. Evaluate the model\n",
        "with torch.no_grad():\n",
        "    outputs = model(data)\n",
        "    predicted = (outputs > 0.5).float()\n",
        "    accuracy = (predicted == labels).float().mean()\n",
        "    print(f'Accuracy: {accuracy.item() * 100:.2f}%')"
      ],
      "metadata": {
        "colab": {
          "base_uri": "https://localhost:8080/"
        },
        "id": "R54T07Iv-yJz",
        "outputId": "46d1adc0-16cb-424a-e5b7-9212937a2035"
      },
      "execution_count": null,
      "outputs": [
        {
          "output_type": "stream",
          "name": "stdout",
          "text": [
            "Signal data shape: torch.Size([1024, 32768])\n",
            "Signal data shape: torch.Size([665, 32768])\n",
            "Signal data shape: torch.Size([1024, 32768])\n",
            "Signal data shape: torch.Size([1024, 32768])\n",
            "Signal data shape: torch.Size([1024, 32768])\n",
            "Signal data shape: torch.Size([1024, 32768])\n",
            "Signal data shape: torch.Size([1024, 32768])\n",
            "Signal data shape: torch.Size([136, 32768])\n",
            "Signal data shape: torch.Size([1024, 32768])\n",
            "Signal data shape: torch.Size([1024, 32768])\n",
            "Signal data shape: torch.Size([1024, 32768])\n",
            "Signal data shape: torch.Size([1024, 32768])\n",
            "Signal data shape: torch.Size([1024, 32768])\n",
            "Signal data shape: torch.Size([707, 32768])\n",
            "Signal data shape: torch.Size([1024, 32768])\n",
            "Signal data shape: torch.Size([447, 32768])\n",
            "Signal data shape: torch.Size([1024, 32768])\n",
            "Signal data shape: torch.Size([1024, 32768])\n",
            "Signal data shape: torch.Size([1024, 32768])\n",
            "Signal data shape: torch.Size([1024, 32768])\n",
            "Signal data shape: torch.Size([1024, 32768])\n",
            "Signal data shape: torch.Size([1024, 32768])\n",
            "Signal data shape: torch.Size([1014, 32768])\n",
            "Signal data shape: torch.Size([1024, 32768])\n",
            "Signal data shape: torch.Size([1024, 32768])\n",
            "Signal data shape: torch.Size([1024, 32768])\n",
            "Signal data shape: torch.Size([1024, 32768])\n",
            "Signal data shape: torch.Size([1024, 32768])\n",
            "Signal data shape: torch.Size([234, 32768])\n",
            "Signal data shape: torch.Size([1024, 32768])\n",
            "Signal data shape: torch.Size([1024, 32768])\n",
            "Signal data shape: torch.Size([1024, 32768])\n",
            "Signal data shape: torch.Size([1024, 32768])\n",
            "Signal data shape: torch.Size([1024, 32768])\n",
            "Signal data shape: torch.Size([1024, 32768])\n",
            "Signal data shape: torch.Size([1024, 32768])\n",
            "Signal data shape: torch.Size([1024, 32768])\n",
            "Signal data shape: torch.Size([1024, 32768])\n",
            "Signal data shape: torch.Size([1024, 32768])\n",
            "Signal data shape: torch.Size([1024, 32768])\n",
            "Signal data shape: torch.Size([1024, 32768])\n",
            "Signal data shape: torch.Size([979, 32768])\n",
            "Signal data shape: torch.Size([1024, 32768])\n",
            "Signal data shape: torch.Size([1024, 32768])\n",
            "Signal data shape: torch.Size([1024, 32768])\n",
            "Signal data shape: torch.Size([1024, 32768])\n",
            "Signal data shape: torch.Size([1024, 32768])\n",
            "Signal data shape: torch.Size([772, 32768])\n",
            "Signal data shape: torch.Size([1024, 32768])\n",
            "Signal data shape: torch.Size([1024, 32768])\n",
            "Signal data shape: torch.Size([1024, 32768])\n",
            "Signal data shape: torch.Size([1024, 32768])\n",
            "Signal data shape: torch.Size([1024, 32768])\n",
            "Signal data shape: torch.Size([1024, 32768])\n",
            "Signal data shape: torch.Size([1024, 32768])\n",
            "Signal data shape: torch.Size([1024, 32768])\n",
            "Signal data shape: torch.Size([1024, 32768])\n",
            "Signal data shape: torch.Size([1024, 32768])\n"
          ]
        }
      ]
    },
    {
      "cell_type": "markdown",
      "source": [
        "Attractor Stuff"
      ],
      "metadata": {
        "id": "dmsdI8MhX4TI"
      }
    },
    {
      "cell_type": "code",
      "source": [
        "!pip install pyinform\n",
        "!pip install tisean"
      ],
      "metadata": {
        "colab": {
          "base_uri": "https://localhost:8080/"
        },
        "id": "z0syjrAeYFFb",
        "outputId": "1256e19c-5bbd-4d63-8a61-fee6214cf7bc"
      },
      "execution_count": null,
      "outputs": [
        {
          "output_type": "stream",
          "name": "stdout",
          "text": [
            "Collecting pyinform\n",
            "  Downloading pyinform-0.2.0-py3-none-any.whl.metadata (1.8 kB)\n",
            "Requirement already satisfied: numpy in /usr/local/lib/python3.10/dist-packages (from pyinform) (1.26.4)\n",
            "Downloading pyinform-0.2.0-py3-none-any.whl (131 kB)\n",
            "\u001b[?25l   \u001b[90m━━━━━━━━━━━━━━━━━━━━━━━━━━━━━━━━━━━━━━━━\u001b[0m \u001b[32m0.0/131.2 kB\u001b[0m \u001b[31m?\u001b[0m eta \u001b[36m-:--:--\u001b[0m\r\u001b[2K   \u001b[90m━━━━━━━━━━━━━━━━━━━━━━━━━━━━━━━━━━━━━━━━\u001b[0m \u001b[32m131.2/131.2 kB\u001b[0m \u001b[31m10.3 MB/s\u001b[0m eta \u001b[36m0:00:00\u001b[0m\n",
            "\u001b[?25hInstalling collected packages: pyinform\n",
            "Successfully installed pyinform-0.2.0\n",
            "\u001b[31mERROR: Could not find a version that satisfies the requirement tisean (from versions: none)\u001b[0m\u001b[31m\n",
            "\u001b[0m\u001b[31mERROR: No matching distribution found for tisean\u001b[0m\u001b[31m\n",
            "\u001b[0m"
          ]
        }
      ]
    },
    {
      "cell_type": "code",
      "source": [
        "from sklearn.metrics import mutual_info_score\n",
        "from pyinform import mutualinfo\n",
        "\n",
        "def false_nearest_neighbors_multivariate(time_series, taus, max_dim, rtol=10, atol=2):\n",
        "    \"\"\"\n",
        "    Compute the percentage of false nearest neighbors for a given multivariate time series.\n",
        "\n",
        "    Parameters:\n",
        "    time_series (array-like): The input multivariate time series data (shape: n_samples x n_features).\n",
        "    taus (list): A list of time delays to use for each component of the time series.\n",
        "    max_dim (int): The maximum embedding dimension to consider.\n",
        "    rtol (float): The relative tolerance for identifying false neighbors.\n",
        "    atol (float): The absolute tolerance for identifying false neighbors.\n",
        "\n",
        "    Returns:\n",
        "    fnn_percent (list): A list containing the percentage of false nearest neighbors for each embedding dimension.\n",
        "    \"\"\"\n",
        "    n_samples, n_features = time_series.shape\n",
        "    fnn_percent = []\n",
        "\n",
        "    for d in range(1, max_dim + 1):\n",
        "        embedded = []\n",
        "        for i in range(n_samples - (d - 1) * max(taus)):\n",
        "            vector = []\n",
        "            for j in range(n_features):\n",
        "                for k in range(d):\n",
        "                    vector.append(time_series[i + k * taus[j], j])\n",
        "            embedded.append(vector)\n",
        "        embedded = np.array(embedded)\n",
        "\n",
        "        fnn_count = 0\n",
        "        total_pairs = 0\n",
        "\n",
        "        for i in range(len(embedded) - 1):\n",
        "            distances = np.linalg.norm(embedded[i + 1:] - embedded[i], axis=1)\n",
        "            nearest_index = np.argmin(distances)\n",
        "            nearest_distance = distances[nearest_index]\n",
        "\n",
        "            if nearest_distance == 0:\n",
        "                continue\n",
        "\n",
        "            next_distance = np.linalg.norm(time_series[i + d * max(taus)] - time_series[nearest_index + d * max(taus)])\n",
        "            if next_distance / nearest_distance > rtol or next_distance > atol:\n",
        "                fnn_count += 1\n",
        "\n",
        "            total_pairs += 1\n",
        "\n",
        "        fnn_percent.append(fnn_count / total_pairs * 100)\n",
        "\n",
        "    return fnn_percent\n",
        "\n",
        "# Function to compute mutual information for different lags\n",
        "def compute_mutual_information(time_series, max_lag):\n",
        "    mi = []\n",
        "    for lag in range(1, max_lag + 1):\n",
        "        x = time_series[:-lag]\n",
        "        y = time_series[lag:]\n",
        "        mi.append(mutualinfo.mutual_info(x, y)) # or mutual_info_score(x, y)\n",
        "    return mi\n",
        "\n",
        "# Example for a single component\n",
        "time_series = get_time_signal_data(model.to_tokens(p_raven))\n",
        "# max_lag = 50  # Maximum lag to consider\n",
        "# mi = compute_mutual_information(time_series, max_lag)\n",
        "\n",
        "# # Plot mutual information vs. lag\n",
        "# import matplotlib.pyplot as plt\n",
        "# plt.plot(range(1, max_lag + 1), mi)\n",
        "# plt.xlabel('Lag')\n",
        "# plt.ylabel('Mutual Information')\n",
        "# plt.show()\n",
        "\n",
        "# # Choose the lag where mutual information first reaches a minimum or inflection point\n",
        "# # optimal_lag = np.argmin(mi) + 1\n",
        "optimal_lag = 12\n",
        "print(\"Optimal Time Delay (Tau):\", optimal_lag)\n",
        "\n",
        "fnn_results = false_nearest_neighbors_multivariate(time_series, taus=[optimal_lag for _ in range(time_series.shape[-1])], max_dim=10)\n",
        "embedding_dimension = next((i for i, v in enumerate(fnn_results) if v < 0.2), 10)\n",
        "\n",
        "print(\"Optimal Embedding Dimension:\", embedding_dimension)\n"
      ],
      "metadata": {
        "id": "1dKx7EL9-tyn",
        "colab": {
          "base_uri": "https://localhost:8080/"
        },
        "outputId": "95e2c1c9-2e75-4dd5-a8ff-ec578eaeb6af"
      },
      "execution_count": null,
      "outputs": [
        {
          "output_type": "stream",
          "name": "stdout",
          "text": [
            "Signal data shape: torch.Size([1024, 32768])\n",
            "Optimal Time Delay (Tau): 12\n"
          ]
        }
      ]
    }
  ],
  "metadata": {
    "colab": {
      "provenance": [],
      "gpuType": "T4",
      "include_colab_link": true
    },
    "kernelspec": {
      "display_name": "Python 3",
      "name": "python3"
    },
    "language_info": {
      "name": "python"
    },
    "accelerator": "GPU"
  },
  "nbformat": 4,
  "nbformat_minor": 0
}